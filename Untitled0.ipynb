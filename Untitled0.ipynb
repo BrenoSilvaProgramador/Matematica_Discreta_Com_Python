{
  "nbformat": 4,
  "nbformat_minor": 0,
  "metadata": {
    "colab": {
      "name": "Untitled0.ipynb",
      "provenance": [],
      "collapsed_sections": [],
      "authorship_tag": "ABX9TyM4aFj3V4D1WWPXRke5cHnn",
      "include_colab_link": true
    },
    "kernelspec": {
      "name": "python3",
      "display_name": "Python 3"
    },
    "language_info": {
      "name": "python"
    }
  },
  "cells": [
    {
      "cell_type": "markdown",
      "metadata": {
        "id": "view-in-github",
        "colab_type": "text"
      },
      "source": [
        "<a href=\"https://colab.research.google.com/github/BrenoSilvaProgramador/Pyhton_Aprendizado/blob/main/Untitled0.ipynb\" target=\"_parent\"><img src=\"https://colab.research.google.com/assets/colab-badge.svg\" alt=\"Open In Colab\"/></a>"
      ]
    },
    {
      "cell_type": "markdown",
      "source": [
        "#Utilizando if e else em Python\n"
      ],
      "metadata": {
        "id": "ai2DokGJUlTI"
      }
    },
    {
      "cell_type": "code",
      "execution_count": null,
      "metadata": {
        "id": "7pa0xBMBUc9G"
      },
      "outputs": [],
      "source": [
        "# Utilizando if e else em Python\n",
        "\n",
        "#____________________________________________________________#\n",
        "                      #programa 01\n",
        "#____________________________________________________________#\n",
        "\n",
        "subtracao = 5 - 3\n",
        "\n",
        "if subtracao == 2:\n",
        "    print(subtracao == 2, '\\n')\n",
        "else :\n",
        "    print('false\\n')\n",
        "\n",
        "#____________________________________________________________#\n",
        "                      #programa 02\n",
        "#____________________________________________________________#\n",
        "\n",
        "idade = int(input('Qual a sua idade?')) #tratamento de dados!\n",
        "\n",
        "if idade > 5 and idade < 18:\n",
        "  print('Você tem menos de 18 anos!')\n",
        "elif idade < 5:\n",
        "  print('Insira uma idade valida seu palhaço!')\n",
        "elif idade >= 18 and idade < 50:\n",
        "  print('Você é um adulto!')\n",
        "else:\n",
        "  print('Você é um velho!')\n"
      ]
    },
    {
      "cell_type": "markdown",
      "source": [
        "#Utilizando for no Python"
      ],
      "metadata": {
        "id": "ztTR5wJpUtl_"
      }
    },
    {
      "cell_type": "code",
      "source": [
        "# Utilizando for em Python\n",
        "\n",
        "#____________________________________________________________#\n",
        "                      #programa 01\n",
        "#____________________________________________________________#\n",
        "\n",
        "for n in range(2):\n",
        "  print('\\n', n, '--> Eu sou um...')\n",
        "\n",
        "#____________________________________________________________#\n",
        "                      #programa 02\n",
        "#____________________________________________________________#\n",
        "\n",
        "palavra = 'Programação'\n",
        "\n",
        "for i in palavra:\n",
        "  print('\\n', i)\n",
        "\n",
        "#____________________________________________________________#\n",
        "                      #programa 03\n",
        "#____________________________________________________________#\n",
        "\n",
        "lista = [1, 2, 3, 45, 78]\n",
        "for contador in lista:\n",
        "  print('\\n',contador, lista)"
      ],
      "metadata": {
        "id": "FZgjNVuLUspl"
      },
      "execution_count": null,
      "outputs": []
    },
    {
      "cell_type": "markdown",
      "source": [
        "#Utilizando a função Input e tratando dados em Python\n"
      ],
      "metadata": {
        "id": "AlxnCRctUyNQ"
      }
    },
    {
      "cell_type": "code",
      "source": [
        "1\n",
        "#Funcao input e tratamento de dados\n",
        "Nome = input('Qual o seu nome?')\n",
        "print(Nome, 'Bem Vindo !')\n",
        "\n",
        "numero_01 = int(input('Favor insira um numero: ')) #tratamento de dados String -> Int\n",
        "numero_02 = int(input('Favor insira um numero: ')) #tratamento de dados String -> Int\n",
        "soma = numero_01 + numero_02\n",
        "print('A somatoria do numero', numero_01, 'com o', numero_02, 'e:', soma)"
      ],
      "metadata": {
        "id": "9zRBlACbUs8S"
      },
      "execution_count": null,
      "outputs": []
    },
    {
      "cell_type": "markdown",
      "source": [
        "#Usando o While em Python\n"
      ],
      "metadata": {
        "id": "XxvgFgHJXHQH"
      }
    },
    {
      "cell_type": "code",
      "source": [
        "# While em Python\n",
        "\n",
        "#____________________________________________________________#\n",
        "                      #programa 01\n",
        "#____________________________________________________________#\n",
        "import time #biblioteca time\n",
        "contador = 0\n",
        "while contador < 5:\n",
        "  print('ainda nao deu!')\n",
        "  contador += 1\n",
        "  time.sleep(1) #funcao da biblioteca time\n",
        "  if contador == 3:\n",
        "    break   # comando break\n",
        "print('Agora deu!')\n",
        "\n",
        "#____________________________________________________________#\n",
        "                      #programa 02\n",
        "#____________________________________________________________#\n",
        "\n",
        "numero = int(input('Digite um numero: '))\n",
        "fatorial = numero\n",
        "contador = 1 \n",
        "while (numero-contador) > 1:\n",
        "  fatorial *= (numero-contador)\n",
        "  contador += 1\n",
        "print(\"{0}! = {1}\".format(numero,fatorial))"
      ],
      "metadata": {
        "id": "VvztMtBlXLsm"
      },
      "execution_count": null,
      "outputs": []
    },
    {
      "cell_type": "markdown",
      "source": [
        "#Bibliotecas em Python"
      ],
      "metadata": {
        "id": "rkcWWo05BE8q"
      }
    },
    {
      "cell_type": "code",
      "source": [
        "#Bibliotecas em Python\n",
        "\n",
        "#biblioteca math\n",
        "import math \n",
        "print(math.factorial(5))\n",
        "\n",
        "#biblioteca datetime\n",
        "import datetime \n",
        "datetime.date.isoformat(datetime.date.today())\n"
      ],
      "metadata": {
        "id": "HBwfTv1rBIWX"
      },
      "execution_count": null,
      "outputs": []
    },
    {
      "cell_type": "markdown",
      "source": [
        "#Criando Funções em Python"
      ],
      "metadata": {
        "id": "bJ4l9cpLYbFq"
      }
    },
    {
      "cell_type": "code",
      "source": [
        "def soma():\n",
        "  numero_01 = float(input('Insira um numero:'))\n",
        "  numero_02 = float(input('Insira outro numero:'))\n",
        "  soma = numero_01 + numero_02\n",
        "  if soma > 100:\n",
        "    print('A soma dos numeros:', numero_01, 'e', numero_02, 'resulta em:', soma,'\\nUm numero que e maior que 100!')\n",
        "  else:\n",
        "    print('A soma dos numeros:', numero_01, 'e', numero_02, 'resulta em:', soma)\n",
        "\n",
        "soma()"
      ],
      "metadata": {
        "id": "VVElmgfMYfz3"
      },
      "execution_count": null,
      "outputs": []
    },
    {
      "cell_type": "markdown",
      "source": [
        "#Listas em Python"
      ],
      "metadata": {
        "id": "wCK42evM9XlU"
      }
    },
    {
      "cell_type": "code",
      "source": [
        "#Listas em Python\n",
        "\n",
        "#____________________________________________________________#\n",
        "                      #programa 01\n",
        "#____________________________________________________________#\n",
        "lista_01 = [1,2,3]\n",
        "print(type(lista_01))\n",
        "\n",
        "lista_02 = [ [1,2,3],  [4,5,6],  [7,8,9] ]\n",
        "print(type(lista_02))\n",
        "\n",
        "print(lista_01[0])    #posicao 01\n",
        "print(lista_01[1])    #posicao 02\n",
        "print(lista_02[2])    #posicao 03\n",
        "print(lista_02[2][0]) #posicao da lista 2 na posicao 0\n",
        "\n",
        "select = lista_02[1]\n",
        "print(select)\n",
        "print(type(select))\n",
        "\n",
        "#____________________________________________________________#\n",
        "                      #programa 02\n",
        "#____________________________________________________________#\n",
        "\n",
        "import random\n",
        "cidades = ['Sao Paulo', 'Rio de Janeiro', 'Belo Horizonte',' Vitoria']\n",
        "escolhida = random.choice(cidades) #escolhe um elemento alatorio da lista cidades\n",
        "print('\\nA cidade escolhida foi: ', escolhida)\n",
        "\n",
        "a = [1, 2, 3]\n",
        "a.append(15)  #adiciona um elemento no final da lista\n",
        "print('\\n',a)"
      ],
      "metadata": {
        "id": "dqXIx2GY9TIV"
      },
      "execution_count": null,
      "outputs": []
    }
  ]
}