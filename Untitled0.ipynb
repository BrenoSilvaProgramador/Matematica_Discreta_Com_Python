{
  "nbformat": 4,
  "nbformat_minor": 0,
  "metadata": {
    "colab": {
      "name": "Untitled0.ipynb",
      "provenance": [],
      "authorship_tag": "ABX9TyOufta41zQ68ed/q+kchNP/",
      "include_colab_link": true
    },
    "kernelspec": {
      "name": "python3",
      "display_name": "Python 3"
    },
    "language_info": {
      "name": "python"
    }
  },
  "cells": [
    {
      "cell_type": "markdown",
      "metadata": {
        "id": "view-in-github",
        "colab_type": "text"
      },
      "source": [
        "<a href=\"https://colab.research.google.com/github/BrenoSilvaProgramador/Pyhton_Aprendizado/blob/main/Untitled0.ipynb\" target=\"_parent\"><img src=\"https://colab.research.google.com/assets/colab-badge.svg\" alt=\"Open In Colab\"/></a>"
      ]
    },
    {
      "cell_type": "code",
      "execution_count": null,
      "metadata": {
        "colab": {
          "base_uri": "https://localhost:8080/"
        },
        "id": "zeV37CVNTq7e",
        "outputId": "11a26d8c-c8fa-49c3-e9e5-4eedfd1f3b19"
      },
      "outputs": [
        {
          "output_type": "stream",
          "name": "stdout",
          "text": [
            "True \n",
            "\n",
            "0 --> Eu sou um...\n",
            "1 --> Eu sou um...\n",
            "Qual o seu nome?Breni\n",
            "Breni Bem Vindo !\n",
            "Favor insira um numero: 1\n",
            "Favor insira um numero: 2\n",
            "A somatoria do numero 1 com o 2 e: 3\n"
          ]
        }
      ],
      "source": [
        "# Utilizando if e else em Python\n",
        "subtracao = 5 - 3\n",
        "if subtracao == 2:\n",
        "    print(subtracao == 2, '\\n')\n",
        "else :\n",
        "    print('false\\n')\n",
        "\n",
        "# Utilizando for em Python\n",
        "for n in range(2):\n",
        "  print(n, '--> Eu sou um...')\n",
        "\n",
        "#Funcao input e tratamento de dados\n",
        "Nome = input('Qual o seu nome?')\n",
        "print(Nome, 'Bem Vindo !')\n",
        "\n",
        "numero_01 = int(input('Favor insira um numero: '))\n",
        "numero_02 = int(input('Favor insira um numero: '))\n",
        "soma = numero_01 + numero_02\n",
        "print('A somatoria do numero', numero_01, 'com o', numero_02, 'e:', soma)"
      ]
    }
  ]
}