{
  "cells": [
    {
      "cell_type": "markdown",
      "metadata": {
        "id": "view-in-github",
        "colab_type": "text"
      },
      "source": [
        "<a href=\"https://colab.research.google.com/github/BrenoSilvaProgramador/Pyhton_Aprendizado/blob/main/Introdu%C3%A7%C3%A3o_a_biblioteca_Pandas.ipynb\" target=\"_parent\"><img src=\"https://colab.research.google.com/assets/colab-badge.svg\" alt=\"Open In Colab\"/></a>"
      ]
    },
    {
      "cell_type": "markdown",
      "id": "6f2f71b3",
      "metadata": {
        "id": "6f2f71b3"
      },
      "source": [
        "# Abrindo arquivos Excel no Python"
      ]
    },
    {
      "cell_type": "code",
      "execution_count": null,
      "id": "ee79ecce",
      "metadata": {
        "id": "ee79ecce"
      },
      "outputs": [],
      "source": [
        "# Informações importantes \n",
        "\n",
        "# Pandas é uma biblioteca bastante usada na area de analise de dados\n",
        "# Ao ler uma base de dados (read_), podemos filtrar os dados\n",
        "\n",
        "\n",
        "# Alguns filtros Utlizados neste documento: \n",
        "\n",
        "# ---> pd.read_excel = ler arquivos em excel\n",
        "# ---> sheet_name = seleciona abas no excel\n",
        "# ---> usecols = seleciona as colunas no arquivo excel\n",
        "# ---> skiprows = exclui as n primeiras linhas requeridas pelo usuario\n",
        "# ---> sheet_name : None = Faz com que todos os dados estejam inlcusos em um dicionario\n",
        "# ---> display() = mostra os dados requeridos pelo usuario\n"
      ]
    },
    {
      "cell_type": "code",
      "execution_count": null,
      "id": "17fd2a2d",
      "metadata": {
        "id": "17fd2a2d",
        "outputId": "32766528-157d-48cd-ad0e-90808c2c227c"
      },
      "outputs": [
        {
          "data": {
            "text/html": [
              "<div>\n",
              "<style scoped>\n",
              "    .dataframe tbody tr th:only-of-type {\n",
              "        vertical-align: middle;\n",
              "    }\n",
              "\n",
              "    .dataframe tbody tr th {\n",
              "        vertical-align: top;\n",
              "    }\n",
              "\n",
              "    .dataframe thead th {\n",
              "        text-align: right;\n",
              "    }\n",
              "</style>\n",
              "<table border=\"1\" class=\"dataframe\">\n",
              "  <thead>\n",
              "    <tr style=\"text-align: right;\">\n",
              "      <th></th>\n",
              "      <th>Vendedor</th>\n",
              "      <th>Vendas</th>\n",
              "    </tr>\n",
              "  </thead>\n",
              "  <tbody>\n",
              "    <tr>\n",
              "      <th>0</th>\n",
              "      <td>Daniel</td>\n",
              "      <td>625</td>\n",
              "    </tr>\n",
              "    <tr>\n",
              "      <th>1</th>\n",
              "      <td>João</td>\n",
              "      <td>594</td>\n",
              "    </tr>\n",
              "    <tr>\n",
              "      <th>2</th>\n",
              "      <td>Natália</td>\n",
              "      <td>650</td>\n",
              "    </tr>\n",
              "    <tr>\n",
              "      <th>3</th>\n",
              "      <td>Henrique</td>\n",
              "      <td>862</td>\n",
              "    </tr>\n",
              "    <tr>\n",
              "      <th>4</th>\n",
              "      <td>Lira</td>\n",
              "      <td>452</td>\n",
              "    </tr>\n",
              "    <tr>\n",
              "      <th>5</th>\n",
              "      <td>Paula</td>\n",
              "      <td>139</td>\n",
              "    </tr>\n",
              "    <tr>\n",
              "      <th>6</th>\n",
              "      <td>Paulo</td>\n",
              "      <td>175</td>\n",
              "    </tr>\n",
              "    <tr>\n",
              "      <th>7</th>\n",
              "      <td>Gabriela</td>\n",
              "      <td>293</td>\n",
              "    </tr>\n",
              "    <tr>\n",
              "      <th>8</th>\n",
              "      <td>Kicia</td>\n",
              "      <td>529</td>\n",
              "    </tr>\n",
              "    <tr>\n",
              "      <th>9</th>\n",
              "      <td>Diego</td>\n",
              "      <td>507</td>\n",
              "    </tr>\n",
              "    <tr>\n",
              "      <th>10</th>\n",
              "      <td>Alon</td>\n",
              "      <td>705</td>\n",
              "    </tr>\n",
              "  </tbody>\n",
              "</table>\n",
              "</div>"
            ],
            "text/plain": [
              "    Vendedor  Vendas\n",
              "0     Daniel     625\n",
              "1       João     594\n",
              "2    Natália     650\n",
              "3   Henrique     862\n",
              "4       Lira     452\n",
              "5      Paula     139\n",
              "6      Paulo     175\n",
              "7   Gabriela     293\n",
              "8      Kicia     529\n",
              "9      Diego     507\n",
              "10      Alon     705"
            ]
          },
          "metadata": {},
          "output_type": "display_data"
        }
      ],
      "source": [
        "import pandas as pd #Declarando a biblioteca pandas \n",
        "\n",
        "tabela = pd.read_excel('planilhas/arquivo.xlsx')\n",
        "display(tabela)"
      ]
    },
    {
      "cell_type": "markdown",
      "id": "d145cf83",
      "metadata": {
        "id": "d145cf83"
      },
      "source": [
        "# Abrindo arquivo Excel selecionando as abas"
      ]
    },
    {
      "cell_type": "code",
      "execution_count": null,
      "id": "a383330c",
      "metadata": {
        "id": "a383330c",
        "outputId": "50682d50-ae4f-4ca8-dc1a-13f4ddb608a4"
      },
      "outputs": [
        {
          "data": {
            "text/html": [
              "<div>\n",
              "<style scoped>\n",
              "    .dataframe tbody tr th:only-of-type {\n",
              "        vertical-align: middle;\n",
              "    }\n",
              "\n",
              "    .dataframe tbody tr th {\n",
              "        vertical-align: top;\n",
              "    }\n",
              "\n",
              "    .dataframe thead th {\n",
              "        text-align: right;\n",
              "    }\n",
              "</style>\n",
              "<table border=\"1\" class=\"dataframe\">\n",
              "  <thead>\n",
              "    <tr style=\"text-align: right;\">\n",
              "      <th></th>\n",
              "      <th>Loja</th>\n",
              "      <th>Vendas</th>\n",
              "    </tr>\n",
              "  </thead>\n",
              "  <tbody>\n",
              "    <tr>\n",
              "      <th>0</th>\n",
              "      <td>Niterói</td>\n",
              "      <td>625</td>\n",
              "    </tr>\n",
              "    <tr>\n",
              "      <th>1</th>\n",
              "      <td>Curitiba</td>\n",
              "      <td>594</td>\n",
              "    </tr>\n",
              "    <tr>\n",
              "      <th>2</th>\n",
              "      <td>Rio de Janeiro</td>\n",
              "      <td>650</td>\n",
              "    </tr>\n",
              "    <tr>\n",
              "      <th>3</th>\n",
              "      <td>São Paulo</td>\n",
              "      <td>862</td>\n",
              "    </tr>\n",
              "    <tr>\n",
              "      <th>4</th>\n",
              "      <td>Cuiabá</td>\n",
              "      <td>452</td>\n",
              "    </tr>\n",
              "    <tr>\n",
              "      <th>5</th>\n",
              "      <td>Palmas</td>\n",
              "      <td>139</td>\n",
              "    </tr>\n",
              "    <tr>\n",
              "      <th>6</th>\n",
              "      <td>Teresina</td>\n",
              "      <td>175</td>\n",
              "    </tr>\n",
              "    <tr>\n",
              "      <th>7</th>\n",
              "      <td>Recife</td>\n",
              "      <td>293</td>\n",
              "    </tr>\n",
              "    <tr>\n",
              "      <th>8</th>\n",
              "      <td>Santa Catarina</td>\n",
              "      <td>529</td>\n",
              "    </tr>\n",
              "    <tr>\n",
              "      <th>9</th>\n",
              "      <td>Manaus</td>\n",
              "      <td>507</td>\n",
              "    </tr>\n",
              "    <tr>\n",
              "      <th>10</th>\n",
              "      <td>Belo Horizonte</td>\n",
              "      <td>705</td>\n",
              "    </tr>\n",
              "  </tbody>\n",
              "</table>\n",
              "</div>"
            ],
            "text/plain": [
              "              Loja  Vendas\n",
              "0          Niterói     625\n",
              "1         Curitiba     594\n",
              "2   Rio de Janeiro     650\n",
              "3        São Paulo     862\n",
              "4           Cuiabá     452\n",
              "5           Palmas     139\n",
              "6         Teresina     175\n",
              "7           Recife     293\n",
              "8   Santa Catarina     529\n",
              "9           Manaus     507\n",
              "10  Belo Horizonte     705"
            ]
          },
          "metadata": {},
          "output_type": "display_data"
        }
      ],
      "source": [
        "tabela = pd.read_excel('planilhas/arquivo.xlsx', sheet_name = 'Planilha2')\n",
        "display(tabela)"
      ]
    },
    {
      "cell_type": "markdown",
      "id": "565f7985",
      "metadata": {
        "id": "565f7985"
      },
      "source": [
        "# Selecionando Linhas e Colunas no Excel"
      ]
    },
    {
      "cell_type": "code",
      "execution_count": null,
      "id": "c2742626",
      "metadata": {
        "id": "c2742626",
        "outputId": "028fb5b5-56c7-4a15-9573-2938ec38e767"
      },
      "outputs": [
        {
          "data": {
            "text/html": [
              "<div>\n",
              "<style scoped>\n",
              "    .dataframe tbody tr th:only-of-type {\n",
              "        vertical-align: middle;\n",
              "    }\n",
              "\n",
              "    .dataframe tbody tr th {\n",
              "        vertical-align: top;\n",
              "    }\n",
              "\n",
              "    .dataframe thead th {\n",
              "        text-align: right;\n",
              "    }\n",
              "</style>\n",
              "<table border=\"1\" class=\"dataframe\">\n",
              "  <thead>\n",
              "    <tr style=\"text-align: right;\">\n",
              "      <th></th>\n",
              "      <th>Cuiabá</th>\n",
              "      <th>452.1</th>\n",
              "    </tr>\n",
              "  </thead>\n",
              "  <tbody>\n",
              "    <tr>\n",
              "      <th>0</th>\n",
              "      <td>Palmas</td>\n",
              "      <td>139</td>\n",
              "    </tr>\n",
              "    <tr>\n",
              "      <th>1</th>\n",
              "      <td>Teresina</td>\n",
              "      <td>175</td>\n",
              "    </tr>\n",
              "    <tr>\n",
              "      <th>2</th>\n",
              "      <td>Recife</td>\n",
              "      <td>293</td>\n",
              "    </tr>\n",
              "    <tr>\n",
              "      <th>3</th>\n",
              "      <td>Santa Catarina</td>\n",
              "      <td>529</td>\n",
              "    </tr>\n",
              "    <tr>\n",
              "      <th>4</th>\n",
              "      <td>Manaus</td>\n",
              "      <td>507</td>\n",
              "    </tr>\n",
              "    <tr>\n",
              "      <th>5</th>\n",
              "      <td>Belo Horizonte</td>\n",
              "      <td>705</td>\n",
              "    </tr>\n",
              "  </tbody>\n",
              "</table>\n",
              "</div>"
            ],
            "text/plain": [
              "           Cuiabá  452.1\n",
              "0          Palmas    139\n",
              "1        Teresina    175\n",
              "2          Recife    293\n",
              "3  Santa Catarina    529\n",
              "4          Manaus    507\n",
              "5  Belo Horizonte    705"
            ]
          },
          "metadata": {},
          "output_type": "display_data"
        }
      ],
      "source": [
        "tabela = pd.read_excel('planilhas/arquivo.xlsx', sheet_name = 'Planilha3', usecols = [5,6], skiprows = 5)\n",
        "display(tabela)"
      ]
    },
    {
      "cell_type": "markdown",
      "id": "070758da",
      "metadata": {
        "id": "070758da"
      },
      "source": [
        "# Buscando todas as informações de um arquivo:"
      ]
    },
    {
      "cell_type": "code",
      "execution_count": null,
      "id": "f906d0fe",
      "metadata": {
        "id": "f906d0fe",
        "outputId": "dc2edfd9-6576-47c7-ab52-a9a69938e2b2"
      },
      "outputs": [
        {
          "data": {
            "text/plain": [
              "{'Planilha1':     Vendedor  Vendas\n",
              " 0     Daniel     625\n",
              " 1       João     594\n",
              " 2    Natália     650\n",
              " 3   Henrique     862\n",
              " 4       Lira     452\n",
              " 5      Paula     139\n",
              " 6      Paulo     175\n",
              " 7   Gabriela     293\n",
              " 8      Kicia     529\n",
              " 9      Diego     507\n",
              " 10      Alon     705,\n",
              " 'Planilha2':               Loja  Vendas\n",
              " 0          Niterói     625\n",
              " 1         Curitiba     594\n",
              " 2   Rio de Janeiro     650\n",
              " 3        São Paulo     862\n",
              " 4           Cuiabá     452\n",
              " 5           Palmas     139\n",
              " 6         Teresina     175\n",
              " 7           Recife     293\n",
              " 8   Santa Catarina     529\n",
              " 9           Manaus     507\n",
              " 10  Belo Horizonte     705,\n",
              " 'Planilha3':     Vendedor  Vendas  Unnamed: 2  Unnamed: 3  Unnamed: 4            Loja  \\\n",
              " 0     Daniel     625         NaN         NaN         NaN         Niterói   \n",
              " 1       João     594         NaN         NaN         NaN        Curitiba   \n",
              " 2    Natália     650         NaN         NaN         NaN  Rio de Janeiro   \n",
              " 3   Henrique     862         NaN         NaN         NaN       São Paulo   \n",
              " 4       Lira     452         NaN         NaN         NaN          Cuiabá   \n",
              " 5      Paula     139         NaN         NaN         NaN          Palmas   \n",
              " 6      Paulo     175         NaN         NaN         NaN        Teresina   \n",
              " 7   Gabriela     293         NaN         NaN         NaN          Recife   \n",
              " 8      Kicia     529         NaN         NaN         NaN  Santa Catarina   \n",
              " 9      Diego     507         NaN         NaN         NaN          Manaus   \n",
              " 10      Alon     705         NaN         NaN         NaN  Belo Horizonte   \n",
              " \n",
              "     Vendas.1  \n",
              " 0        625  \n",
              " 1        594  \n",
              " 2        650  \n",
              " 3        862  \n",
              " 4        452  \n",
              " 5        139  \n",
              " 6        175  \n",
              " 7        293  \n",
              " 8        529  \n",
              " 9        507  \n",
              " 10       705  ,\n",
              " 'Planilha4':     Unnamed: 0  Unnamed: 1  Unnamed: 2  Unnamed: 3  Unnamed: 4  Unnamed: 5  \\\n",
              " 0          NaN         NaN         NaN         NaN         NaN         NaN   \n",
              " 1          NaN         NaN         NaN         NaN         NaN         NaN   \n",
              " 2          NaN         NaN         NaN         NaN         NaN         NaN   \n",
              " 3          NaN         NaN         NaN         NaN         NaN         NaN   \n",
              " 4          NaN         NaN         NaN         NaN         NaN         NaN   \n",
              " 5          NaN         NaN         NaN         NaN         NaN         NaN   \n",
              " 6          NaN         NaN         NaN         NaN         NaN         NaN   \n",
              " 7          NaN         NaN         NaN         NaN         NaN         NaN   \n",
              " 8          NaN         NaN         NaN         NaN         NaN         NaN   \n",
              " 9          NaN         NaN         NaN         NaN         NaN         NaN   \n",
              " 10         NaN         NaN         NaN         NaN         NaN         NaN   \n",
              " 11         NaN         NaN         NaN         NaN         NaN         NaN   \n",
              " 12         NaN         NaN         NaN         NaN         NaN         NaN   \n",
              " 13         NaN         NaN         NaN         NaN         NaN         NaN   \n",
              " 14         NaN         NaN         NaN         NaN         NaN         NaN   \n",
              " 15         NaN         NaN         NaN         NaN         NaN         NaN   \n",
              " 16         NaN         NaN         NaN         NaN         NaN         NaN   \n",
              " 17         NaN         NaN         NaN         NaN         NaN         NaN   \n",
              " \n",
              "    Unnamed: 6 Unnamed: 7  \n",
              " 0         NaN        NaN  \n",
              " 1         NaN        NaN  \n",
              " 2         NaN        NaN  \n",
              " 3         NaN        NaN  \n",
              " 4         NaN        NaN  \n",
              " 5         NaN        NaN  \n",
              " 6    Vendedor     Vendas  \n",
              " 7      Daniel        625  \n",
              " 8        João        594  \n",
              " 9     Natália        650  \n",
              " 10   Henrique        862  \n",
              " 11       Lira        452  \n",
              " 12      Paula        139  \n",
              " 13      Paulo        175  \n",
              " 14   Gabriela        293  \n",
              " 15      Kicia        529  \n",
              " 16      Diego        507  \n",
              " 17       Alon        705  ,\n",
              " 'Planilha5':           Vendedor  Vendas\n",
              " 0           Daniel     625\n",
              " 1             João     594\n",
              " 2          Natália     650\n",
              " 3         Henrique     862\n",
              " 4             Lira     452\n",
              " 5            Paula     139\n",
              " 6            Paulo     175\n",
              " 7         Gabriela     293\n",
              " 8            Kicia     529\n",
              " 9            Diego     507\n",
              " 10            Alon     705\n",
              " 11             NaN     NaN\n",
              " 12            Loja  Vendas\n",
              " 13         Niterói     625\n",
              " 14        Curitiba     594\n",
              " 15  Rio de Janeiro     650\n",
              " 16       São Paulo     862\n",
              " 17          Cuiabá     452\n",
              " 18          Palmas     139\n",
              " 19        Teresina     175\n",
              " 20          Recife     293\n",
              " 21  Santa Catarina     529\n",
              " 22          Manaus     507\n",
              " 23  Belo Horizonte     705}"
            ]
          },
          "metadata": {},
          "output_type": "display_data"
        }
      ],
      "source": [
        "tabela = pd.read_excel('planilhas/arquivo.xlsx', sheet_name=None)\n",
        "display(tabela)"
      ]
    },
    {
      "cell_type": "markdown",
      "id": "596eb149",
      "metadata": {
        "id": "596eb149"
      },
      "source": [
        "#  Mais testes com o Pandas :)"
      ]
    },
    {
      "cell_type": "code",
      "execution_count": null,
      "id": "0c374dff",
      "metadata": {
        "id": "0c374dff"
      },
      "outputs": [],
      "source": [
        "# informações importantes\n",
        "\n",
        "# O pandas possui algumas funções interessantes \n",
        "# ---> .head(n) = mostra a tabela de acordo com o numero n de linhas solicitadas\n",
        "\n",
        "\n",
        "\n",
        "#Extra\n",
        "# Kaggle ___ site para portifólio de dados :)"
      ]
    },
    {
      "cell_type": "code",
      "execution_count": null,
      "id": "c61fbf80",
      "metadata": {
        "id": "c61fbf80",
        "outputId": "65025de6-4696-47ae-c9a0-348975df727b"
      },
      "outputs": [
        {
          "name": "stdout",
          "output_type": "stream",
          "text": [
            "   Números Letras\n",
            "0        1      a\n",
            "1        2      b\n",
            "2        3      c\n",
            "   Números Letras\n",
            "0        1      a\n",
            "1        2      b\n",
            "2        3      c\n",
            "3        4      d\n",
            "4        5      e\n",
            "5        6      f\n"
          ]
        }
      ],
      "source": [
        "dados = pd.read_excel('planilhas/arquivoteste.xlsx')\n",
        "print(dados.head(3))\n",
        "print(dados.head(6))"
      ]
    },
    {
      "cell_type": "markdown",
      "id": "f10c0c22",
      "metadata": {
        "id": "f10c0c22"
      },
      "source": [
        "# Abrindo arquivos .CSV"
      ]
    },
    {
      "cell_type": "code",
      "execution_count": null,
      "id": "08285ac6",
      "metadata": {
        "id": "08285ac6",
        "outputId": "f10e02d2-3608-4a06-88e2-b8f5ec21d721"
      },
      "outputs": [
        {
          "data": {
            "text/html": [
              "<div>\n",
              "<style scoped>\n",
              "    .dataframe tbody tr th:only-of-type {\n",
              "        vertical-align: middle;\n",
              "    }\n",
              "\n",
              "    .dataframe tbody tr th {\n",
              "        vertical-align: top;\n",
              "    }\n",
              "\n",
              "    .dataframe thead th {\n",
              "        text-align: right;\n",
              "    }\n",
              "</style>\n",
              "<table border=\"1\" class=\"dataframe\">\n",
              "  <thead>\n",
              "    <tr style=\"text-align: right;\">\n",
              "      <th></th>\n",
              "      <th>ID</th>\n",
              "      <th>Name</th>\n",
              "      <th>Sex</th>\n",
              "      <th>Age</th>\n",
              "      <th>Height</th>\n",
              "      <th>Weight</th>\n",
              "      <th>Team</th>\n",
              "      <th>NOC</th>\n",
              "      <th>Games</th>\n",
              "      <th>Year</th>\n",
              "      <th>Season</th>\n",
              "      <th>City</th>\n",
              "      <th>Sport</th>\n",
              "      <th>Event</th>\n",
              "      <th>Medal</th>\n",
              "    </tr>\n",
              "  </thead>\n",
              "  <tbody>\n",
              "    <tr>\n",
              "      <th>0</th>\n",
              "      <td>1</td>\n",
              "      <td>A Dijiang</td>\n",
              "      <td>M</td>\n",
              "      <td>24.0</td>\n",
              "      <td>180.0</td>\n",
              "      <td>80.0</td>\n",
              "      <td>China</td>\n",
              "      <td>CHN</td>\n",
              "      <td>1992 Summer</td>\n",
              "      <td>1992</td>\n",
              "      <td>Summer</td>\n",
              "      <td>Barcelona</td>\n",
              "      <td>Basketball</td>\n",
              "      <td>Basketball Men's Basketball</td>\n",
              "      <td>NaN</td>\n",
              "    </tr>\n",
              "    <tr>\n",
              "      <th>1</th>\n",
              "      <td>2</td>\n",
              "      <td>A Lamusi</td>\n",
              "      <td>M</td>\n",
              "      <td>23.0</td>\n",
              "      <td>170.0</td>\n",
              "      <td>60.0</td>\n",
              "      <td>China</td>\n",
              "      <td>CHN</td>\n",
              "      <td>2012 Summer</td>\n",
              "      <td>2012</td>\n",
              "      <td>Summer</td>\n",
              "      <td>London</td>\n",
              "      <td>Judo</td>\n",
              "      <td>Judo Men's Extra-Lightweight</td>\n",
              "      <td>NaN</td>\n",
              "    </tr>\n",
              "    <tr>\n",
              "      <th>2</th>\n",
              "      <td>3</td>\n",
              "      <td>Gunnar Nielsen Aaby</td>\n",
              "      <td>M</td>\n",
              "      <td>24.0</td>\n",
              "      <td>NaN</td>\n",
              "      <td>NaN</td>\n",
              "      <td>Denmark</td>\n",
              "      <td>DEN</td>\n",
              "      <td>1920 Summer</td>\n",
              "      <td>1920</td>\n",
              "      <td>Summer</td>\n",
              "      <td>Antwerpen</td>\n",
              "      <td>Football</td>\n",
              "      <td>Football Men's Football</td>\n",
              "      <td>NaN</td>\n",
              "    </tr>\n",
              "    <tr>\n",
              "      <th>3</th>\n",
              "      <td>4</td>\n",
              "      <td>Edgar Lindenau Aabye</td>\n",
              "      <td>M</td>\n",
              "      <td>34.0</td>\n",
              "      <td>NaN</td>\n",
              "      <td>NaN</td>\n",
              "      <td>Denmark/Sweden</td>\n",
              "      <td>DEN</td>\n",
              "      <td>1900 Summer</td>\n",
              "      <td>1900</td>\n",
              "      <td>Summer</td>\n",
              "      <td>Paris</td>\n",
              "      <td>Tug-Of-War</td>\n",
              "      <td>Tug-Of-War Men's Tug-Of-War</td>\n",
              "      <td>Gold</td>\n",
              "    </tr>\n",
              "    <tr>\n",
              "      <th>4</th>\n",
              "      <td>5</td>\n",
              "      <td>Christine Jacoba Aaftink</td>\n",
              "      <td>F</td>\n",
              "      <td>21.0</td>\n",
              "      <td>185.0</td>\n",
              "      <td>82.0</td>\n",
              "      <td>Netherlands</td>\n",
              "      <td>NED</td>\n",
              "      <td>1988 Winter</td>\n",
              "      <td>1988</td>\n",
              "      <td>Winter</td>\n",
              "      <td>Calgary</td>\n",
              "      <td>Speed Skating</td>\n",
              "      <td>Speed Skating Women's 500 metres</td>\n",
              "      <td>NaN</td>\n",
              "    </tr>\n",
              "    <tr>\n",
              "      <th>...</th>\n",
              "      <td>...</td>\n",
              "      <td>...</td>\n",
              "      <td>...</td>\n",
              "      <td>...</td>\n",
              "      <td>...</td>\n",
              "      <td>...</td>\n",
              "      <td>...</td>\n",
              "      <td>...</td>\n",
              "      <td>...</td>\n",
              "      <td>...</td>\n",
              "      <td>...</td>\n",
              "      <td>...</td>\n",
              "      <td>...</td>\n",
              "      <td>...</td>\n",
              "      <td>...</td>\n",
              "    </tr>\n",
              "    <tr>\n",
              "      <th>95</th>\n",
              "      <td>32</td>\n",
              "      <td>Olav Augunson Aarnes</td>\n",
              "      <td>M</td>\n",
              "      <td>23.0</td>\n",
              "      <td>NaN</td>\n",
              "      <td>NaN</td>\n",
              "      <td>Norway</td>\n",
              "      <td>NOR</td>\n",
              "      <td>1912 Summer</td>\n",
              "      <td>1912</td>\n",
              "      <td>Summer</td>\n",
              "      <td>Stockholm</td>\n",
              "      <td>Athletics</td>\n",
              "      <td>Athletics Men's High Jump</td>\n",
              "      <td>NaN</td>\n",
              "    </tr>\n",
              "    <tr>\n",
              "      <th>96</th>\n",
              "      <td>33</td>\n",
              "      <td>Mika Lauri Aarnikka</td>\n",
              "      <td>M</td>\n",
              "      <td>24.0</td>\n",
              "      <td>187.0</td>\n",
              "      <td>76.0</td>\n",
              "      <td>Finland</td>\n",
              "      <td>FIN</td>\n",
              "      <td>1992 Summer</td>\n",
              "      <td>1992</td>\n",
              "      <td>Summer</td>\n",
              "      <td>Barcelona</td>\n",
              "      <td>Sailing</td>\n",
              "      <td>Sailing Men's Two Person Dinghy</td>\n",
              "      <td>NaN</td>\n",
              "    </tr>\n",
              "    <tr>\n",
              "      <th>97</th>\n",
              "      <td>33</td>\n",
              "      <td>Mika Lauri Aarnikka</td>\n",
              "      <td>M</td>\n",
              "      <td>28.0</td>\n",
              "      <td>187.0</td>\n",
              "      <td>76.0</td>\n",
              "      <td>Finland</td>\n",
              "      <td>FIN</td>\n",
              "      <td>1996 Summer</td>\n",
              "      <td>1996</td>\n",
              "      <td>Summer</td>\n",
              "      <td>Atlanta</td>\n",
              "      <td>Sailing</td>\n",
              "      <td>Sailing Men's Two Person Dinghy</td>\n",
              "      <td>NaN</td>\n",
              "    </tr>\n",
              "    <tr>\n",
              "      <th>98</th>\n",
              "      <td>34</td>\n",
              "      <td>Jamale (Djamel-) Aarrass (Ahrass-)</td>\n",
              "      <td>M</td>\n",
              "      <td>30.0</td>\n",
              "      <td>187.0</td>\n",
              "      <td>76.0</td>\n",
              "      <td>France</td>\n",
              "      <td>FRA</td>\n",
              "      <td>2012 Summer</td>\n",
              "      <td>2012</td>\n",
              "      <td>Summer</td>\n",
              "      <td>London</td>\n",
              "      <td>Athletics</td>\n",
              "      <td>Athletics Men's 1,500 metres</td>\n",
              "      <td>NaN</td>\n",
              "    </tr>\n",
              "    <tr>\n",
              "      <th>99</th>\n",
              "      <td>35</td>\n",
              "      <td>Dagfinn Sverre Aarskog</td>\n",
              "      <td>M</td>\n",
              "      <td>24.0</td>\n",
              "      <td>190.0</td>\n",
              "      <td>98.0</td>\n",
              "      <td>Norway</td>\n",
              "      <td>NOR</td>\n",
              "      <td>1998 Winter</td>\n",
              "      <td>1998</td>\n",
              "      <td>Winter</td>\n",
              "      <td>Nagano</td>\n",
              "      <td>Bobsleigh</td>\n",
              "      <td>Bobsleigh Men's Four</td>\n",
              "      <td>NaN</td>\n",
              "    </tr>\n",
              "  </tbody>\n",
              "</table>\n",
              "<p>100 rows × 15 columns</p>\n",
              "</div>"
            ],
            "text/plain": [
              "    ID                                Name Sex   Age  Height  Weight  \\\n",
              "0    1                           A Dijiang   M  24.0   180.0    80.0   \n",
              "1    2                            A Lamusi   M  23.0   170.0    60.0   \n",
              "2    3                 Gunnar Nielsen Aaby   M  24.0     NaN     NaN   \n",
              "3    4                Edgar Lindenau Aabye   M  34.0     NaN     NaN   \n",
              "4    5            Christine Jacoba Aaftink   F  21.0   185.0    82.0   \n",
              "..  ..                                 ...  ..   ...     ...     ...   \n",
              "95  32                Olav Augunson Aarnes   M  23.0     NaN     NaN   \n",
              "96  33                 Mika Lauri Aarnikka   M  24.0   187.0    76.0   \n",
              "97  33                 Mika Lauri Aarnikka   M  28.0   187.0    76.0   \n",
              "98  34  Jamale (Djamel-) Aarrass (Ahrass-)   M  30.0   187.0    76.0   \n",
              "99  35              Dagfinn Sverre Aarskog   M  24.0   190.0    98.0   \n",
              "\n",
              "              Team  NOC        Games  Year  Season       City          Sport  \\\n",
              "0            China  CHN  1992 Summer  1992  Summer  Barcelona     Basketball   \n",
              "1            China  CHN  2012 Summer  2012  Summer     London           Judo   \n",
              "2          Denmark  DEN  1920 Summer  1920  Summer  Antwerpen       Football   \n",
              "3   Denmark/Sweden  DEN  1900 Summer  1900  Summer      Paris     Tug-Of-War   \n",
              "4      Netherlands  NED  1988 Winter  1988  Winter    Calgary  Speed Skating   \n",
              "..             ...  ...          ...   ...     ...        ...            ...   \n",
              "95          Norway  NOR  1912 Summer  1912  Summer  Stockholm      Athletics   \n",
              "96         Finland  FIN  1992 Summer  1992  Summer  Barcelona        Sailing   \n",
              "97         Finland  FIN  1996 Summer  1996  Summer    Atlanta        Sailing   \n",
              "98          France  FRA  2012 Summer  2012  Summer     London      Athletics   \n",
              "99          Norway  NOR  1998 Winter  1998  Winter     Nagano      Bobsleigh   \n",
              "\n",
              "                               Event Medal  \n",
              "0        Basketball Men's Basketball   NaN  \n",
              "1       Judo Men's Extra-Lightweight   NaN  \n",
              "2            Football Men's Football   NaN  \n",
              "3        Tug-Of-War Men's Tug-Of-War  Gold  \n",
              "4   Speed Skating Women's 500 metres   NaN  \n",
              "..                               ...   ...  \n",
              "95         Athletics Men's High Jump   NaN  \n",
              "96   Sailing Men's Two Person Dinghy   NaN  \n",
              "97   Sailing Men's Two Person Dinghy   NaN  \n",
              "98      Athletics Men's 1,500 metres   NaN  \n",
              "99              Bobsleigh Men's Four   NaN  \n",
              "\n",
              "[100 rows x 15 columns]"
            ]
          },
          "execution_count": 31,
          "metadata": {},
          "output_type": "execute_result"
        }
      ],
      "source": [
        "dados= pd.read_csv('csv/athlete_events.csv')\n",
        "dados.head(100)"
      ]
    },
    {
      "cell_type": "markdown",
      "id": "67e3a6ec",
      "metadata": {
        "id": "67e3a6ec"
      },
      "source": [
        "# Transformando dicionarios em DataFrames"
      ]
    },
    {
      "cell_type": "code",
      "execution_count": null,
      "id": "d9c01658",
      "metadata": {
        "id": "d9c01658",
        "outputId": "ff7639a4-52ca-4f9b-fe73-73245326732c"
      },
      "outputs": [
        {
          "name": "stdout",
          "output_type": "stream",
          "text": [
            "      Nome  Notas Aprovado\n",
            "0  Ricardo      6      Sim\n",
            "1    Pedro      4      Não\n",
            "2  Roberto      7      Sim\n",
            "3  Augusto      8      Sim\n"
          ]
        }
      ],
      "source": [
        "alunos ={ 'Nome'     : ['Ricardo', 'Pedro', 'Roberto', 'Augusto'],\n",
        "          'Notas'    : [6        , 4      , 7        ,         8],\n",
        "          'Aprovado' : ['Sim'    , 'Não'  , 'Sim'    , 'Sim'    ] }\n",
        "\n",
        "dataframe = pd.DataFrame(alunos)\n",
        "print(dataframe)"
      ]
    },
    {
      "cell_type": "markdown",
      "id": "540af905",
      "metadata": {
        "id": "540af905"
      },
      "source": [
        "# Comparação entre as bibliotecas numpy e pandas"
      ]
    },
    {
      "cell_type": "code",
      "execution_count": null,
      "id": "3435f3d7",
      "metadata": {
        "id": "3435f3d7",
        "outputId": "502a6f43-c2ad-46a1-90d9-d935cb4813fc"
      },
      "outputs": [
        {
          "name": "stdout",
          "output_type": "stream",
          "text": [
            "0    2\n",
            "1    9\n",
            "2    7\n",
            "3    8\n",
            "4    9\n",
            "dtype: int64\n",
            "\n",
            "\n",
            "[ 4  5  6 18]\n",
            "\n",
            "\n",
            "0     4\n",
            "1     5\n",
            "2     6\n",
            "3    18\n",
            "dtype: int32\n",
            "\n",
            "\n",
            "<class 'pandas.core.frame.DataFrame'>\n"
          ]
        }
      ],
      "source": [
        "import pandas as pd\n",
        "\n",
        "alunos ={ 'Nome'     : ['Ricardo', 'Pedro', 'Roberto', 'Augusto'],\n",
        "          'Notas'    : [6        , 4      , 7        ,         8],\n",
        "          'Aprovado' : ['Sim'    , 'Não'  , 'Sim'    , 'Sim'    ] }\n",
        "\n",
        "#criando um dataframe\n",
        "objeto = pd.Series([2,9,7,8,9]) #Criando uma tabela com a função .Series()\n",
        "print(objeto) \n",
        "\n",
        "#Criando um array\n",
        "import numpy as np\n",
        "array = np.array([4,5,6,18]) #Criando um vetor com a função .array()\n",
        "print('\\n')\n",
        "print(array)\n",
        "\n",
        "#Transformando um array em um dataframe \n",
        "objeto = pd.Series(array)\n",
        "print('\\n')\n",
        "print(objeto)\n",
        "\n",
        "#Funcao describe\n",
        "print('\\n')\n",
        "aluno = pd.DataFrame(alunos)\n",
        "aluno.describe()\n",
        "\n",
        "print(type(aluno))"
      ]
    },
    {
      "cell_type": "code",
      "execution_count": null,
      "id": "11e5cdc0",
      "metadata": {
        "id": "11e5cdc0"
      },
      "outputs": [],
      "source": [
        "# Comandos uteis da Biblioteca Pandas\n",
        "\n",
        "# ---> .shape = mostra as quantidades de linhas e colunas\n",
        "# ---> .describe() = mostra um detalahamneto geral da tabela\n",
        "# ---> .loc() = manipula linhas\n",
        "# ---> .rename(coluns == {}) = troca o titulo das colunas\n",
        "# ---> .value_count() == mostra a quantidade de valores listados\n",
        "# ---> .drop() == excluindo colunas em uma base de dados\n",
        "\n",
        "\n",
        "#Lembrando que podemos desenvolver um dicionario e depois transforma-lo em um \n",
        "# dataframe, possibilitando a manipulação de dados com a biblioteca pandas\n"
      ]
    },
    {
      "cell_type": "markdown",
      "id": "4e01cda0",
      "metadata": {
        "id": "4e01cda0"
      },
      "source": [
        "# Criando e personalizando Histogramas"
      ]
    },
    {
      "cell_type": "code",
      "execution_count": null,
      "id": "f28f0233",
      "metadata": {
        "id": "f28f0233",
        "outputId": "cfe7f3b5-4585-41f2-d4de-abcce188ab65"
      },
      "outputs": [
        {
          "data": {
            "text/html": [
              "<div>\n",
              "<style scoped>\n",
              "    .dataframe tbody tr th:only-of-type {\n",
              "        vertical-align: middle;\n",
              "    }\n",
              "\n",
              "    .dataframe tbody tr th {\n",
              "        vertical-align: top;\n",
              "    }\n",
              "\n",
              "    .dataframe thead th {\n",
              "        text-align: right;\n",
              "    }\n",
              "</style>\n",
              "<table border=\"1\" class=\"dataframe\">\n",
              "  <thead>\n",
              "    <tr style=\"text-align: right;\">\n",
              "      <th></th>\n",
              "      <th>ID</th>\n",
              "      <th>Name</th>\n",
              "      <th>Sex</th>\n",
              "      <th>Age</th>\n",
              "      <th>Height</th>\n",
              "      <th>Weight</th>\n",
              "      <th>Team</th>\n",
              "      <th>NOC</th>\n",
              "      <th>Games</th>\n",
              "      <th>Year</th>\n",
              "      <th>Season</th>\n",
              "      <th>City</th>\n",
              "      <th>Sport</th>\n",
              "      <th>Event</th>\n",
              "      <th>Medal</th>\n",
              "    </tr>\n",
              "  </thead>\n",
              "  <tbody>\n",
              "    <tr>\n",
              "      <th>0</th>\n",
              "      <td>1</td>\n",
              "      <td>A Dijiang</td>\n",
              "      <td>M</td>\n",
              "      <td>24.0</td>\n",
              "      <td>180.0</td>\n",
              "      <td>80.0</td>\n",
              "      <td>China</td>\n",
              "      <td>CHN</td>\n",
              "      <td>1992 Summer</td>\n",
              "      <td>1992</td>\n",
              "      <td>Summer</td>\n",
              "      <td>Barcelona</td>\n",
              "      <td>Basketball</td>\n",
              "      <td>Basketball Men's Basketball</td>\n",
              "      <td>NaN</td>\n",
              "    </tr>\n",
              "    <tr>\n",
              "      <th>1</th>\n",
              "      <td>2</td>\n",
              "      <td>A Lamusi</td>\n",
              "      <td>M</td>\n",
              "      <td>23.0</td>\n",
              "      <td>170.0</td>\n",
              "      <td>60.0</td>\n",
              "      <td>China</td>\n",
              "      <td>CHN</td>\n",
              "      <td>2012 Summer</td>\n",
              "      <td>2012</td>\n",
              "      <td>Summer</td>\n",
              "      <td>London</td>\n",
              "      <td>Judo</td>\n",
              "      <td>Judo Men's Extra-Lightweight</td>\n",
              "      <td>NaN</td>\n",
              "    </tr>\n",
              "    <tr>\n",
              "      <th>2</th>\n",
              "      <td>3</td>\n",
              "      <td>Gunnar Nielsen Aaby</td>\n",
              "      <td>M</td>\n",
              "      <td>24.0</td>\n",
              "      <td>NaN</td>\n",
              "      <td>NaN</td>\n",
              "      <td>Denmark</td>\n",
              "      <td>DEN</td>\n",
              "      <td>1920 Summer</td>\n",
              "      <td>1920</td>\n",
              "      <td>Summer</td>\n",
              "      <td>Antwerpen</td>\n",
              "      <td>Football</td>\n",
              "      <td>Football Men's Football</td>\n",
              "      <td>NaN</td>\n",
              "    </tr>\n",
              "    <tr>\n",
              "      <th>3</th>\n",
              "      <td>4</td>\n",
              "      <td>Edgar Lindenau Aabye</td>\n",
              "      <td>M</td>\n",
              "      <td>34.0</td>\n",
              "      <td>NaN</td>\n",
              "      <td>NaN</td>\n",
              "      <td>Denmark/Sweden</td>\n",
              "      <td>DEN</td>\n",
              "      <td>1900 Summer</td>\n",
              "      <td>1900</td>\n",
              "      <td>Summer</td>\n",
              "      <td>Paris</td>\n",
              "      <td>Tug-Of-War</td>\n",
              "      <td>Tug-Of-War Men's Tug-Of-War</td>\n",
              "      <td>Gold</td>\n",
              "    </tr>\n",
              "    <tr>\n",
              "      <th>4</th>\n",
              "      <td>5</td>\n",
              "      <td>Christine Jacoba Aaftink</td>\n",
              "      <td>F</td>\n",
              "      <td>21.0</td>\n",
              "      <td>185.0</td>\n",
              "      <td>82.0</td>\n",
              "      <td>Netherlands</td>\n",
              "      <td>NED</td>\n",
              "      <td>1988 Winter</td>\n",
              "      <td>1988</td>\n",
              "      <td>Winter</td>\n",
              "      <td>Calgary</td>\n",
              "      <td>Speed Skating</td>\n",
              "      <td>Speed Skating Women's 500 metres</td>\n",
              "      <td>NaN</td>\n",
              "    </tr>\n",
              "  </tbody>\n",
              "</table>\n",
              "</div>"
            ],
            "text/plain": [
              "   ID                      Name Sex   Age  Height  Weight            Team  \\\n",
              "0   1                 A Dijiang   M  24.0   180.0    80.0           China   \n",
              "1   2                  A Lamusi   M  23.0   170.0    60.0           China   \n",
              "2   3       Gunnar Nielsen Aaby   M  24.0     NaN     NaN         Denmark   \n",
              "3   4      Edgar Lindenau Aabye   M  34.0     NaN     NaN  Denmark/Sweden   \n",
              "4   5  Christine Jacoba Aaftink   F  21.0   185.0    82.0     Netherlands   \n",
              "\n",
              "   NOC        Games  Year  Season       City          Sport  \\\n",
              "0  CHN  1992 Summer  1992  Summer  Barcelona     Basketball   \n",
              "1  CHN  2012 Summer  2012  Summer     London           Judo   \n",
              "2  DEN  1920 Summer  1920  Summer  Antwerpen       Football   \n",
              "3  DEN  1900 Summer  1900  Summer      Paris     Tug-Of-War   \n",
              "4  NED  1988 Winter  1988  Winter    Calgary  Speed Skating   \n",
              "\n",
              "                              Event Medal  \n",
              "0       Basketball Men's Basketball   NaN  \n",
              "1      Judo Men's Extra-Lightweight   NaN  \n",
              "2           Football Men's Football   NaN  \n",
              "3       Tug-Of-War Men's Tug-Of-War  Gold  \n",
              "4  Speed Skating Women's 500 metres   NaN  "
            ]
          },
          "execution_count": 10,
          "metadata": {},
          "output_type": "execute_result"
        }
      ],
      "source": [
        "import pandas as pd             # importando a biblioteca pandas para manipulação de dados\n",
        "import matplotlib.pyplot as plt # importando a biblioteca matplotlib para geração de graficos\n",
        "\n",
        "dados= pd.read_csv('csv/athlete_events.csv')\n",
        "dados.head(5)"
      ]
    },
    {
      "cell_type": "code",
      "execution_count": null,
      "id": "174cb88f",
      "metadata": {
        "id": "174cb88f",
        "outputId": "e54bb402-ba74-4e6a-b72e-9bd7ca3379ae"
      },
      "outputs": [
        {
          "data": {
            "image/png": "[encoded data removed]",
            "text/plain": [
              "<Figure size 432x288 with 1 Axes>"
            ]
          },
          "metadata": {
            "needs_background": "light"
          },
          "output_type": "display_data"
        }
      ],
      "source": [
        "dados.hist(column = 'Age', bins = 10)\n",
        "plt.show()"
      ]
    },
    {
      "cell_type": "code",
      "execution_count": null,
      "id": "45da388c",
      "metadata": {
        "scrolled": true,
        "id": "45da388c",
        "outputId": "ccf2882d-86d5-4964-a08f-aa3e78e113bf"
      },
      "outputs": [
        {
          "data": {
            "image/png": "[encoded data removed]",
            "text/plain": [
              "<Figure size 432x288 with 1 Axes>"
            ]
          },
          "metadata": {
            "needs_background": "light"
          },
          "output_type": "display_data"
        }
      ],
      "source": [
        "dados.hist(column = 'Age', bins = 100)\n",
        "plt.show()"
      ]
    },
    {
      "cell_type": "markdown",
      "id": "f8fd236d",
      "metadata": {
        "id": "f8fd236d"
      },
      "source": [
        "# Criando um Boxplot"
      ]
    },
    {
      "cell_type": "code",
      "execution_count": null,
      "id": "625bd483",
      "metadata": {
        "id": "625bd483",
        "outputId": "9e22fbd8-3e42-4bab-e7fe-c285e881453b"
      },
      "outputs": [
        {
          "data": {
            "text/html": [
              "<div>\n",
              "<style scoped>\n",
              "    .dataframe tbody tr th:only-of-type {\n",
              "        vertical-align: middle;\n",
              "    }\n",
              "\n",
              "    .dataframe tbody tr th {\n",
              "        vertical-align: top;\n",
              "    }\n",
              "\n",
              "    .dataframe thead th {\n",
              "        text-align: right;\n",
              "    }\n",
              "</style>\n",
              "<table border=\"1\" class=\"dataframe\">\n",
              "  <thead>\n",
              "    <tr style=\"text-align: right;\">\n",
              "      <th></th>\n",
              "      <th>ID</th>\n",
              "      <th>Name</th>\n",
              "      <th>Sex</th>\n",
              "      <th>Age</th>\n",
              "      <th>Height</th>\n",
              "      <th>Weight</th>\n",
              "      <th>Team</th>\n",
              "      <th>NOC</th>\n",
              "      <th>Games</th>\n",
              "      <th>Year</th>\n",
              "      <th>Season</th>\n",
              "      <th>City</th>\n",
              "      <th>Sport</th>\n",
              "      <th>Event</th>\n",
              "      <th>Medal</th>\n",
              "    </tr>\n",
              "  </thead>\n",
              "  <tbody>\n",
              "    <tr>\n",
              "      <th>0</th>\n",
              "      <td>1</td>\n",
              "      <td>A Dijiang</td>\n",
              "      <td>M</td>\n",
              "      <td>24.0</td>\n",
              "      <td>180.0</td>\n",
              "      <td>80.0</td>\n",
              "      <td>China</td>\n",
              "      <td>CHN</td>\n",
              "      <td>1992 Summer</td>\n",
              "      <td>1992</td>\n",
              "      <td>Summer</td>\n",
              "      <td>Barcelona</td>\n",
              "      <td>Basketball</td>\n",
              "      <td>Basketball Men's Basketball</td>\n",
              "      <td>NaN</td>\n",
              "    </tr>\n",
              "    <tr>\n",
              "      <th>1</th>\n",
              "      <td>2</td>\n",
              "      <td>A Lamusi</td>\n",
              "      <td>M</td>\n",
              "      <td>23.0</td>\n",
              "      <td>170.0</td>\n",
              "      <td>60.0</td>\n",
              "      <td>China</td>\n",
              "      <td>CHN</td>\n",
              "      <td>2012 Summer</td>\n",
              "      <td>2012</td>\n",
              "      <td>Summer</td>\n",
              "      <td>London</td>\n",
              "      <td>Judo</td>\n",
              "      <td>Judo Men's Extra-Lightweight</td>\n",
              "      <td>NaN</td>\n",
              "    </tr>\n",
              "    <tr>\n",
              "      <th>2</th>\n",
              "      <td>3</td>\n",
              "      <td>Gunnar Nielsen Aaby</td>\n",
              "      <td>M</td>\n",
              "      <td>24.0</td>\n",
              "      <td>NaN</td>\n",
              "      <td>NaN</td>\n",
              "      <td>Denmark</td>\n",
              "      <td>DEN</td>\n",
              "      <td>1920 Summer</td>\n",
              "      <td>1920</td>\n",
              "      <td>Summer</td>\n",
              "      <td>Antwerpen</td>\n",
              "      <td>Football</td>\n",
              "      <td>Football Men's Football</td>\n",
              "      <td>NaN</td>\n",
              "    </tr>\n",
              "    <tr>\n",
              "      <th>3</th>\n",
              "      <td>4</td>\n",
              "      <td>Edgar Lindenau Aabye</td>\n",
              "      <td>M</td>\n",
              "      <td>34.0</td>\n",
              "      <td>NaN</td>\n",
              "      <td>NaN</td>\n",
              "      <td>Denmark/Sweden</td>\n",
              "      <td>DEN</td>\n",
              "      <td>1900 Summer</td>\n",
              "      <td>1900</td>\n",
              "      <td>Summer</td>\n",
              "      <td>Paris</td>\n",
              "      <td>Tug-Of-War</td>\n",
              "      <td>Tug-Of-War Men's Tug-Of-War</td>\n",
              "      <td>Gold</td>\n",
              "    </tr>\n",
              "    <tr>\n",
              "      <th>4</th>\n",
              "      <td>5</td>\n",
              "      <td>Christine Jacoba Aaftink</td>\n",
              "      <td>F</td>\n",
              "      <td>21.0</td>\n",
              "      <td>185.0</td>\n",
              "      <td>82.0</td>\n",
              "      <td>Netherlands</td>\n",
              "      <td>NED</td>\n",
              "      <td>1988 Winter</td>\n",
              "      <td>1988</td>\n",
              "      <td>Winter</td>\n",
              "      <td>Calgary</td>\n",
              "      <td>Speed Skating</td>\n",
              "      <td>Speed Skating Women's 500 metres</td>\n",
              "      <td>NaN</td>\n",
              "    </tr>\n",
              "  </tbody>\n",
              "</table>\n",
              "</div>"
            ],
            "text/plain": [
              "   ID                      Name Sex   Age  Height  Weight            Team  \\\n",
              "0   1                 A Dijiang   M  24.0   180.0    80.0           China   \n",
              "1   2                  A Lamusi   M  23.0   170.0    60.0           China   \n",
              "2   3       Gunnar Nielsen Aaby   M  24.0     NaN     NaN         Denmark   \n",
              "3   4      Edgar Lindenau Aabye   M  34.0     NaN     NaN  Denmark/Sweden   \n",
              "4   5  Christine Jacoba Aaftink   F  21.0   185.0    82.0     Netherlands   \n",
              "\n",
              "   NOC        Games  Year  Season       City          Sport  \\\n",
              "0  CHN  1992 Summer  1992  Summer  Barcelona     Basketball   \n",
              "1  CHN  2012 Summer  2012  Summer     London           Judo   \n",
              "2  DEN  1920 Summer  1920  Summer  Antwerpen       Football   \n",
              "3  DEN  1900 Summer  1900  Summer      Paris     Tug-Of-War   \n",
              "4  NED  1988 Winter  1988  Winter    Calgary  Speed Skating   \n",
              "\n",
              "                              Event Medal  \n",
              "0       Basketball Men's Basketball   NaN  \n",
              "1      Judo Men's Extra-Lightweight   NaN  \n",
              "2           Football Men's Football   NaN  \n",
              "3       Tug-Of-War Men's Tug-Of-War  Gold  \n",
              "4  Speed Skating Women's 500 metres   NaN  "
            ]
          },
          "execution_count": 13,
          "metadata": {},
          "output_type": "execute_result"
        }
      ],
      "source": [
        "import pandas as pd # importando a biblioteca pandas para analise de dados\n",
        "\n",
        "dados= pd.read_csv('csv/athlete_events.csv') # importando base de dados\n",
        "dados.head(5)   # mostrando base de dados com as primeiras n linhas (n = 5 nessa célula)"
      ]
    },
    {
      "cell_type": "code",
      "execution_count": null,
      "id": "f51a1a24",
      "metadata": {
        "id": "f51a1a24",
        "outputId": "901f2e5b-5bb3-4a0e-87f6-a584f647dece"
      },
      "outputs": [
        {
          "data": {
            "image/png": "[encoded data removed]",
            "text/plain": [
              "<Figure size 432x288 with 1 Axes>"
            ]
          },
          "metadata": {
            "needs_background": "light"
          },
          "output_type": "display_data"
        }
      ],
      "source": [
        "import matplotlib.pyplot as plt # importando a biblioteca matplotlib.pyplot para gerar graficos\n",
        "dados.boxplot(column = ['Age', 'Height', 'Weight'])\n",
        "plt.show()"
      ]
    },
    {
      "cell_type": "markdown",
      "id": "6ab2f4cf",
      "metadata": {
        "id": "6ab2f4cf"
      },
      "source": [
        "# Criando gráficos com a biblioteca matplotlib.pyplot"
      ]
    },
    {
      "cell_type": "code",
      "execution_count": null,
      "id": "ef1ad3aa",
      "metadata": {
        "id": "ef1ad3aa",
        "outputId": "efb20602-8606-445e-c8c0-b92722e138c8"
      },
      "outputs": [
        {
          "data": {
            "image/png": "[encoded data removed]",
            "text/plain": [
              "<Figure size 432x288 with 1 Axes>"
            ]
          },
          "metadata": {
            "needs_background": "light"
          },
          "output_type": "display_data"
        }
      ],
      "source": [
        "import matplotlib.pyplot as plt # biblioteca usada para desenvolver gráficos \n",
        "\n",
        "x = [1,2,3,4,5,6,7,8,9,10,12,13]\n",
        "y = [1,2,3,4,5,6,7,8,9,10,11,12]\n",
        "\n",
        "plt.scatter(x,y)\n",
        "plt.show()"
      ]
    },
    {
      "cell_type": "code",
      "execution_count": null,
      "id": "c879d85f",
      "metadata": {
        "id": "c879d85f",
        "outputId": "8c994694-23e0-47ab-9bd5-3c3e1294c294"
      },
      "outputs": [
        {
          "name": "stdout",
          "output_type": "stream",
          "text": [
            "[  0  10  20  30  40  50  60  70  80  90 100 110 120 130 140 150 160 170\n",
            " 180 190 200 210 220 230 240 250 260 270 280 290 300 310 320 330 340 350\n",
            " 360 370 380 390 400 410 420 430 440 450 460 470 480 490 500 510 520 530\n",
            " 540 550 560 570 580 590 600 610 620 630 640 650 660 670 680 690 700 710\n",
            " 720 730 740 750 760 770 780 790 800 810 820 830 840 850 860 870 880 890\n",
            " 900 910 920 930 940 950 960 970 980 990]\n"
          ]
        },
        {
          "data": {
            "image/png": "[encoded data removed]",
            "text/plain": [
              "<Figure size 432x288 with 1 Axes>"
            ]
          },
          "metadata": {
            "needs_background": "light"
          },
          "output_type": "display_data"
        }
      ],
      "source": [
        "import numpy as np\n",
        "\n",
        "x1 = np.arange(0, 1000, 10)\n",
        "print(x1)\n",
        "\n",
        "plt.plot(x1, x1**3)\n",
        "plt.show()"
      ]
    },
    {
      "cell_type": "markdown",
      "id": "8a3547db",
      "metadata": {
        "id": "8a3547db"
      },
      "source": [
        "# Criando um gráfico de dispersão simples a partir de uma base de dados"
      ]
    },
    {
      "cell_type": "code",
      "execution_count": null,
      "id": "37819fb4",
      "metadata": {
        "id": "37819fb4",
        "outputId": "59b222a4-228e-42a2-a21c-c5536f470cdb"
      },
      "outputs": [
        {
          "data": {
            "image/png": "[encoded data removed]",
            "text/plain": [
              "<Figure size 432x288 with 1 Axes>"
            ]
          },
          "metadata": {
            "needs_background": "light"
          },
          "output_type": "display_data"
        }
      ],
      "source": [
        "#Exercicio \n",
        "\n",
        "import pandas as pd                             # importei a biblioteca pandas\n",
        "dados = pd.read_csv('csv/athlete_events.csv')   # usei uma das funcoes do pandas para ter uma base de dados\n",
        "masculino = dados.loc[dados['Sex'] == 'M']      # separei os atletas masculinos para a analise (coluna com M)\n",
        "masculino.head()                                # plotei os dados relativos aos atletas masculinos \n",
        "\n",
        "x = masculino['Height']   # Criei um eixo x com a altura dos atletas \n",
        "y = masculino['Weight']   # Criei um eixo y com o peso dos atletas\n",
        "\n",
        "import matplotlib.pyplot as plt# importei a biblioteca matplotlib.pyploy\n",
        "plt.scatter(x,y)               # usei uma das funcoes da biblioteca matplot para gerar os eixos do gráfico pelas variaveis x e y\n",
        "plt.show()                     # mostro o grafico de dispersao de dados!"
      ]
    },
    {
      "cell_type": "markdown",
      "id": "53aa3016",
      "metadata": {
        "id": "53aa3016"
      },
      "source": [
        "# Lidando com dados faltantes\n"
      ]
    },
    {
      "cell_type": "code",
      "execution_count": null,
      "id": "ac1ad506",
      "metadata": {
        "id": "ac1ad506",
        "outputId": "5f1b38f8-cd9f-452a-c7e4-b194aae2a2f9"
      },
      "outputs": [
        {
          "data": {
            "text/plain": [
              "(30181, 15)"
            ]
          },
          "execution_count": 5,
          "metadata": {},
          "output_type": "execute_result"
        }
      ],
      "source": [
        "import pandas as pd\n",
        "\n",
        "dados = pd.read_csv('csv/athlete_events.csv')\n",
        "dado = dados.dropna()\n",
        "\n",
        "dado.shape #lendo dados tirando o na"
      ]
    },
    {
      "cell_type": "code",
      "execution_count": null,
      "id": "4a027a6a",
      "metadata": {
        "id": "4a027a6a",
        "outputId": "f080e3df-544d-4d26-9fbc-e8231e51e8ff"
      },
      "outputs": [
        {
          "data": {
            "text/plain": [
              "(271116, 15)"
            ]
          },
          "execution_count": 6,
          "metadata": {},
          "output_type": "execute_result"
        }
      ],
      "source": [
        "dados.shape #lendo dados incluindo na"
      ]
    },
    {
      "cell_type": "code",
      "execution_count": null,
      "id": "6be323c3",
      "metadata": {
        "id": "6be323c3",
        "outputId": "a2ffb53b-9637-4338-ba21-8fc827352391"
      },
      "outputs": [
        {
          "data": {
            "text/html": [
              "<div>\n",
              "<style scoped>\n",
              "    .dataframe tbody tr th:only-of-type {\n",
              "        vertical-align: middle;\n",
              "    }\n",
              "\n",
              "    .dataframe tbody tr th {\n",
              "        vertical-align: top;\n",
              "    }\n",
              "\n",
              "    .dataframe thead th {\n",
              "        text-align: right;\n",
              "    }\n",
              "</style>\n",
              "<table border=\"1\" class=\"dataframe\">\n",
              "  <thead>\n",
              "    <tr style=\"text-align: right;\">\n",
              "      <th></th>\n",
              "      <th>ID</th>\n",
              "      <th>Name</th>\n",
              "      <th>Sex</th>\n",
              "      <th>Age</th>\n",
              "      <th>Height</th>\n",
              "      <th>Weight</th>\n",
              "      <th>Team</th>\n",
              "      <th>NOC</th>\n",
              "      <th>Games</th>\n",
              "      <th>Year</th>\n",
              "      <th>Season</th>\n",
              "      <th>City</th>\n",
              "      <th>Sport</th>\n",
              "      <th>Event</th>\n",
              "      <th>Medal</th>\n",
              "    </tr>\n",
              "  </thead>\n",
              "  <tbody>\n",
              "    <tr>\n",
              "      <th>0</th>\n",
              "      <td>False</td>\n",
              "      <td>False</td>\n",
              "      <td>False</td>\n",
              "      <td>False</td>\n",
              "      <td>False</td>\n",
              "      <td>False</td>\n",
              "      <td>False</td>\n",
              "      <td>False</td>\n",
              "      <td>False</td>\n",
              "      <td>False</td>\n",
              "      <td>False</td>\n",
              "      <td>False</td>\n",
              "      <td>False</td>\n",
              "      <td>False</td>\n",
              "      <td>True</td>\n",
              "    </tr>\n",
              "    <tr>\n",
              "      <th>1</th>\n",
              "      <td>False</td>\n",
              "      <td>False</td>\n",
              "      <td>False</td>\n",
              "      <td>False</td>\n",
              "      <td>False</td>\n",
              "      <td>False</td>\n",
              "      <td>False</td>\n",
              "      <td>False</td>\n",
              "      <td>False</td>\n",
              "      <td>False</td>\n",
              "      <td>False</td>\n",
              "      <td>False</td>\n",
              "      <td>False</td>\n",
              "      <td>False</td>\n",
              "      <td>True</td>\n",
              "    </tr>\n",
              "    <tr>\n",
              "      <th>2</th>\n",
              "      <td>False</td>\n",
              "      <td>False</td>\n",
              "      <td>False</td>\n",
              "      <td>False</td>\n",
              "      <td>True</td>\n",
              "      <td>True</td>\n",
              "      <td>False</td>\n",
              "      <td>False</td>\n",
              "      <td>False</td>\n",
              "      <td>False</td>\n",
              "      <td>False</td>\n",
              "      <td>False</td>\n",
              "      <td>False</td>\n",
              "      <td>False</td>\n",
              "      <td>True</td>\n",
              "    </tr>\n",
              "    <tr>\n",
              "      <th>3</th>\n",
              "      <td>False</td>\n",
              "      <td>False</td>\n",
              "      <td>False</td>\n",
              "      <td>False</td>\n",
              "      <td>True</td>\n",
              "      <td>True</td>\n",
              "      <td>False</td>\n",
              "      <td>False</td>\n",
              "      <td>False</td>\n",
              "      <td>False</td>\n",
              "      <td>False</td>\n",
              "      <td>False</td>\n",
              "      <td>False</td>\n",
              "      <td>False</td>\n",
              "      <td>False</td>\n",
              "    </tr>\n",
              "    <tr>\n",
              "      <th>4</th>\n",
              "      <td>False</td>\n",
              "      <td>False</td>\n",
              "      <td>False</td>\n",
              "      <td>False</td>\n",
              "      <td>False</td>\n",
              "      <td>False</td>\n",
              "      <td>False</td>\n",
              "      <td>False</td>\n",
              "      <td>False</td>\n",
              "      <td>False</td>\n",
              "      <td>False</td>\n",
              "      <td>False</td>\n",
              "      <td>False</td>\n",
              "      <td>False</td>\n",
              "      <td>True</td>\n",
              "    </tr>\n",
              "    <tr>\n",
              "      <th>...</th>\n",
              "      <td>...</td>\n",
              "      <td>...</td>\n",
              "      <td>...</td>\n",
              "      <td>...</td>\n",
              "      <td>...</td>\n",
              "      <td>...</td>\n",
              "      <td>...</td>\n",
              "      <td>...</td>\n",
              "      <td>...</td>\n",
              "      <td>...</td>\n",
              "      <td>...</td>\n",
              "      <td>...</td>\n",
              "      <td>...</td>\n",
              "      <td>...</td>\n",
              "      <td>...</td>\n",
              "    </tr>\n",
              "    <tr>\n",
              "      <th>95</th>\n",
              "      <td>False</td>\n",
              "      <td>False</td>\n",
              "      <td>False</td>\n",
              "      <td>False</td>\n",
              "      <td>True</td>\n",
              "      <td>True</td>\n",
              "      <td>False</td>\n",
              "      <td>False</td>\n",
              "      <td>False</td>\n",
              "      <td>False</td>\n",
              "      <td>False</td>\n",
              "      <td>False</td>\n",
              "      <td>False</td>\n",
              "      <td>False</td>\n",
              "      <td>True</td>\n",
              "    </tr>\n",
              "    <tr>\n",
              "      <th>96</th>\n",
              "      <td>False</td>\n",
              "      <td>False</td>\n",
              "      <td>False</td>\n",
              "      <td>False</td>\n",
              "      <td>False</td>\n",
              "      <td>False</td>\n",
              "      <td>False</td>\n",
              "      <td>False</td>\n",
              "      <td>False</td>\n",
              "      <td>False</td>\n",
              "      <td>False</td>\n",
              "      <td>False</td>\n",
              "      <td>False</td>\n",
              "      <td>False</td>\n",
              "      <td>True</td>\n",
              "    </tr>\n",
              "    <tr>\n",
              "      <th>97</th>\n",
              "      <td>False</td>\n",
              "      <td>False</td>\n",
              "      <td>False</td>\n",
              "      <td>False</td>\n",
              "      <td>False</td>\n",
              "      <td>False</td>\n",
              "      <td>False</td>\n",
              "      <td>False</td>\n",
              "      <td>False</td>\n",
              "      <td>False</td>\n",
              "      <td>False</td>\n",
              "      <td>False</td>\n",
              "      <td>False</td>\n",
              "      <td>False</td>\n",
              "      <td>True</td>\n",
              "    </tr>\n",
              "    <tr>\n",
              "      <th>98</th>\n",
              "      <td>False</td>\n",
              "      <td>False</td>\n",
              "      <td>False</td>\n",
              "      <td>False</td>\n",
              "      <td>False</td>\n",
              "      <td>False</td>\n",
              "      <td>False</td>\n",
              "      <td>False</td>\n",
              "      <td>False</td>\n",
              "      <td>False</td>\n",
              "      <td>False</td>\n",
              "      <td>False</td>\n",
              "      <td>False</td>\n",
              "      <td>False</td>\n",
              "      <td>True</td>\n",
              "    </tr>\n",
              "    <tr>\n",
              "      <th>99</th>\n",
              "      <td>False</td>\n",
              "      <td>False</td>\n",
              "      <td>False</td>\n",
              "      <td>False</td>\n",
              "      <td>False</td>\n",
              "      <td>False</td>\n",
              "      <td>False</td>\n",
              "      <td>False</td>\n",
              "      <td>False</td>\n",
              "      <td>False</td>\n",
              "      <td>False</td>\n",
              "      <td>False</td>\n",
              "      <td>False</td>\n",
              "      <td>False</td>\n",
              "      <td>True</td>\n",
              "    </tr>\n",
              "  </tbody>\n",
              "</table>\n",
              "<p>100 rows × 15 columns</p>\n",
              "</div>"
            ],
            "text/plain": [
              "       ID   Name    Sex    Age  Height  Weight   Team    NOC  Games   Year  \\\n",
              "0   False  False  False  False   False   False  False  False  False  False   \n",
              "1   False  False  False  False   False   False  False  False  False  False   \n",
              "2   False  False  False  False    True    True  False  False  False  False   \n",
              "3   False  False  False  False    True    True  False  False  False  False   \n",
              "4   False  False  False  False   False   False  False  False  False  False   \n",
              "..    ...    ...    ...    ...     ...     ...    ...    ...    ...    ...   \n",
              "95  False  False  False  False    True    True  False  False  False  False   \n",
              "96  False  False  False  False   False   False  False  False  False  False   \n",
              "97  False  False  False  False   False   False  False  False  False  False   \n",
              "98  False  False  False  False   False   False  False  False  False  False   \n",
              "99  False  False  False  False   False   False  False  False  False  False   \n",
              "\n",
              "    Season   City  Sport  Event  Medal  \n",
              "0    False  False  False  False   True  \n",
              "1    False  False  False  False   True  \n",
              "2    False  False  False  False   True  \n",
              "3    False  False  False  False  False  \n",
              "4    False  False  False  False   True  \n",
              "..     ...    ...    ...    ...    ...  \n",
              "95   False  False  False  False   True  \n",
              "96   False  False  False  False   True  \n",
              "97   False  False  False  False   True  \n",
              "98   False  False  False  False   True  \n",
              "99   False  False  False  False   True  \n",
              "\n",
              "[100 rows x 15 columns]"
            ]
          },
          "execution_count": 8,
          "metadata": {},
          "output_type": "execute_result"
        }
      ],
      "source": [
        "enulo = dados.isnull() # todo o valor NaN receberá um true\n",
        "enulo.head(100)"
      ]
    },
    {
      "cell_type": "code",
      "execution_count": null,
      "id": "798d4ab3",
      "metadata": {
        "id": "798d4ab3",
        "outputId": "c1587f7b-dbd4-43f0-b38c-c71dc4007b90"
      },
      "outputs": [
        {
          "data": {
            "text/plain": [
              "ID             0\n",
              "Name           0\n",
              "Sex            0\n",
              "Age         9474\n",
              "Height     60171\n",
              "Weight     62875\n",
              "Team           0\n",
              "NOC            0\n",
              "Games          0\n",
              "Year           0\n",
              "Season         0\n",
              "City           0\n",
              "Sport          0\n",
              "Event          0\n",
              "Medal     231333\n",
              "dtype: int64"
            ]
          },
          "execution_count": 10,
          "metadata": {},
          "output_type": "execute_result"
        }
      ],
      "source": [
        "faltantes = dados.isnull().sum() # o objetivo e ver quais colunas possuem dados faltantes e qual o valor desses dados\n",
        "faltantes.head(100)"
      ]
    },
    {
      "cell_type": "code",
      "execution_count": null,
      "id": "a3457c59",
      "metadata": {
        "id": "a3457c59",
        "outputId": "72f6b941-16be-4dda-844b-b99814d433c7"
      },
      "outputs": [
        {
          "data": {
            "text/plain": [
              "ID         0.000000\n",
              "Name       0.000000\n",
              "Sex        0.000000\n",
              "Age        3.494445\n",
              "Height    22.193821\n",
              "Weight    23.191180\n",
              "Team       0.000000\n",
              "NOC        0.000000\n",
              "Games      0.000000\n",
              "Year       0.000000\n",
              "Season     0.000000\n",
              "City       0.000000\n",
              "Sport      0.000000\n",
              "Event      0.000000\n",
              "Medal     85.326207\n",
              "dtype: float64"
            ]
          },
          "execution_count": 15,
          "metadata": {},
          "output_type": "execute_result"
        }
      ],
      "source": [
        "faltantes_porcentagem = (dados.isnull().sum() / len(dados['ID']) * 100)  \n",
        "faltantes_porcentagem.head(15)"
      ]
    }
  ],
  "metadata": {
    "kernelspec": {
      "display_name": "Python 3 (ipykernel)",
      "language": "python",
      "name": "python3"
    },
    "language_info": {
      "codemirror_mode": {
        "name": "ipython",
        "version": 3
      },
      "file_extension": ".py",
      "mimetype": "text/x-python",
      "name": "python",
      "nbconvert_exporter": "python",
      "pygments_lexer": "ipython3",
      "version": "3.9.12"
    },
    "colab": {
      "name": "Introdução a biblioteca Pandas.ipynb",
      "provenance": [],
      "include_colab_link": true
    }
  },
  "nbformat": 4,
  "nbformat_minor": 5
}