{
  "cells": [
    {
      "cell_type": "markdown",
      "metadata": {
        "id": "view-in-github",
        "colab_type": "text"
      },
      "source": [
        "<a href=\"https://colab.research.google.com/github/BrenoSilvaProgramador/Pyhton_Aprendizado/blob/main/matematica_discreta_em_python_checkpoint.ipynb\" target=\"_parent\"><img src=\"https://colab.research.google.com/assets/colab-badge.svg\" alt=\"Open In Colab\"/></a>"
      ]
    },
    {
      "cell_type": "markdown",
      "id": "4bf2428d",
      "metadata": {
        "id": "4bf2428d"
      },
      "source": [
        "<h1> Matematica discreta em Python - Parte 01 </h1> \n",
        "\n",
        "<h4>No python temos disponiveis os seguintes operadores numericos</h4> \n",
        "\n",
        "Operador | Operação | Exemplo | Valor\n",
        "-------- | -------- | ------- | -----\n",
        "+        | soma     | 3 + 5   | 8\n",
        "-        | subtração| 3 - 5   | -2\n",
        "*        | produto  | 3 * 5   | 15\n",
        "/        | divisão  | 3 / 5   | 0.6\n",
        "%        | resto da divisão  | 3 % 5   | 3\n",
        "//  | resto inteiro divisão  | 3 // 5   | 0\n",
        "** | potencia | 3**5 | 125\n",
        "\n",
        "<h4>No python temos disponiveis os seguintes operadores lógicos</h4>\n",
        "\n",
        "Operador | Nome         \n",
        "-------- | ------------  \n",
        "not      | operador nao \n",
        "and      | operador e   \n",
        "or       | operador ou  \n",
        "=! | operador disjunção exclusia \n",
        "and not | operador implicação \n",
        "== | operador bi-implicação \n",
        "\n",
        "<h4>Tipos primitivos no Python</h4>\n",
        "\n",
        "tipos   | descrição\n",
        "--------|--------\n",
        "int | os números inteiros <br>\n",
        "float | os números decimais <br>\n",
        "str | as cadeias de caracteres ou strings <br>\n",
        "bool | os valores lógicos ou booleanos <br>\n",
        "list |  cunjunto de numeros alteraveis<br>\n",
        "tuple | conjunto de numeros nao alteraveis<br>\n",
        "\n",
        "### Lógica proposicional \n",
        "\n",
        "Na lógica clássica, que abordamos, a avaliação duma proposição é regida por dois princípios fundamentais:\n",
        "- **Princípio da não contradição** - Uma proposição não pode ser simultaneamente verdadeira e falsa;\n",
        "- **Princípio do terceiro excluído** - Uma proposição ou é verdadeira ou é falsa;\n",
        "\n",
        "Representam-se por letras (geralmente minúsculas) as proposições genéricas (ou variáveis proposicionais) e por 1 (ou V) e 0 (ou F) os valores lógicos de \"*verdade*\" e \"*falsidade*\", respectivamente. \n",
        "\n",
        "A área da lógica que trata as proposições neste contexto é designada por *cálculo proposicional* ou *lógica proposicional*.\n",
        "\n",
        "### Conectivos Lógicos \n",
        "\n",
        "Em cálculo proposicional as proposições são geradas a partir de proposições simples, usando operadores para formação de proposições. Vamos tomar como sintacticamente válidas proposições compostas da forma:\n",
        "\n",
        "não  p , <br>\n",
        "p  e  q , <br>\n",
        "p  ou  q , <br>\n",
        "ou  p  ou (exclusivo)  q , <br>\n",
        "se  p  então  q , <br>\n",
        "p  se e só se  q . <br> <br>\n",
        "onde  p  e  q  são proposições (simples ou compostas). Neste casos, em geral, pretende-se obter os valores lógicos das proposições compostas em função dos valores lógicos conhecidos das proposições mais simples que as compõem. Por forma a podermos formalizar a lógica e a avaliação de proposições, convencionamos a seguinte representação para os operadores sintácticos usados na formação de proposições:\n",
        "\n",
        "Operações Lógicas | Símbolos | Notação | Significado\n",
        "------------------|----------|---------|------------\n",
        "Negação | $\\neg$ ou $\\sim$ | $\\neg p$ | não *p*\n",
        "Conjunção | $\\wedge$ | $p \\wedge q$ | *p* e *q*\n",
        "Disjunção | $\\vee$ | $p \\vee q$ | *p* ou *q* \n",
        "Disjunção exclusiva | $\\oplus$ ou $\\dot{\\vee}$ | $p\\oplus q$ |  ou *p* ou (exclusivo) *q* \n",
        "Implicação | $\\rightarrow$ | $p\\rightarrow q$ | se *p* então *q* \n",
        "Bi-implicação | $\\leftrightarrow$ | $p\\leftrightarrow q$ | *p* se só se *q*\n"
      ]
    },
    {
      "cell_type": "markdown",
      "id": "a03e6d67",
      "metadata": {
        "id": "a03e6d67"
      },
      "source": [
        "# Tabela Verdade : Negação (~p)\n",
        "\n",
        "p | ~p\n",
        "- | -\n",
        "F | V\n",
        "V | F\n",
        "\n"
      ]
    },
    {
      "cell_type": "code",
      "execution_count": null,
      "id": "f3f17b9b",
      "metadata": {
        "id": "f3f17b9b",
        "outputId": "1b480f79-dd1b-4bdf-b72f-1c9326e06540"
      },
      "outputs": [
        {
          "name": "stdout",
          "output_type": "stream",
          "text": [
            "~ True = False\n",
            "~ False = True\n"
          ]
        }
      ],
      "source": [
        "# Tabela da Negação\n",
        "for p in [True,False]:\n",
        "  print('~',p,\"=\", not p)"
      ]
    },
    {
      "cell_type": "markdown",
      "id": "5bd75dbe",
      "metadata": {
        "id": "5bd75dbe"
      },
      "source": [
        "# Tabela Verdade :  Conjunção ($p\\wedge q$)\n",
        "\n",
        "  p |  q | p $\\wedge$ q \n",
        ":-----:|:----:|:--------:\n",
        "  V | V  |   V \n",
        "  V | F  |   F \n",
        "  F | V  |   F \n",
        "  F | F  |   F\n",
        "\n"
      ]
    },
    {
      "cell_type": "code",
      "execution_count": null,
      "id": "12b43332",
      "metadata": {
        "id": "12b43332",
        "outputId": "eff4bd4d-8c0c-4d2c-c946-b57a82e4c12f"
      },
      "outputs": [
        {
          "name": "stdout",
          "output_type": "stream",
          "text": [
            "True and True = True\n",
            "True and False = False\n",
            "False and True = False\n",
            "False and False = False\n"
          ]
        }
      ],
      "source": [
        "# Tabela da conjunção\n",
        "for p in [True,False]:\n",
        "  for q in [True,False]:\n",
        "    print(p,'and',q,'=', p and q)"
      ]
    },
    {
      "cell_type": "markdown",
      "id": "9a7b80b6",
      "metadata": {
        "id": "9a7b80b6"
      },
      "source": [
        "# Tabela Verdade :  Disjunção inclusiva (*p $\\vee$ q*)\n",
        "\n",
        "  p | q | p $\\vee$ q \n",
        " ------:|:-----:|:---------:\n",
        "   V  | V   |    V \n",
        "   V  | F   |    V \n",
        "   F  | V   |    V \n",
        "   F  | F   |    F"
      ]
    },
    {
      "cell_type": "code",
      "execution_count": null,
      "id": "dfded6b0",
      "metadata": {
        "id": "dfded6b0",
        "outputId": "7fc1cb6b-b5e9-4b0c-c31b-64c5240f7e73"
      },
      "outputs": [
        {
          "name": "stdout",
          "output_type": "stream",
          "text": [
            "True or True = True\n",
            "True or False = True\n",
            "False or True = True\n",
            "False or False = False\n"
          ]
        }
      ],
      "source": [
        "# Tabela da disjunção\n",
        "for p in [True,False]:\n",
        "  for q in [True,False]:\n",
        "    print(p,'or',q,'=', p or q)"
      ]
    },
    {
      "cell_type": "markdown",
      "id": "d214984c",
      "metadata": {
        "id": "d214984c"
      },
      "source": [
        "# Tabela Verdade :  Disjunção excusiva (*p $\\oplus$ q*)\n",
        "\n",
        "p | q | p $\\oplus$  q \n",
        " ------ | ----- | --------\n",
        "   V  |  V  |  F \n",
        "   V  |  F  |  V \n",
        "   F  |  V  |  V \n",
        "   F  |  F  |  F"
      ]
    },
    {
      "cell_type": "code",
      "execution_count": null,
      "id": "bd003570",
      "metadata": {
        "id": "bd003570",
        "outputId": "cf4cc589-b82e-42d0-d751-8e7322ae1dd5"
      },
      "outputs": [
        {
          "name": "stdout",
          "output_type": "stream",
          "text": [
            "True xor True = False\n",
            "True xor False = True\n",
            "False xor True = True\n",
            "False xor False = False\n"
          ]
        }
      ],
      "source": [
        "# Tabela da disjunção exclusiva\n",
        "for p in [True,False]:\n",
        "  for q in [True,False]:\n",
        "    print(p,'xor',q,'=', (p != q))"
      ]
    },
    {
      "cell_type": "markdown",
      "id": "26d38f39",
      "metadata": {
        "id": "26d38f39"
      },
      "source": [
        "# Tabela Verdade :  Implicação (*p $\\rightarrow$ q*)\n",
        "\n",
        "  p | q | p $\\rightarrow$ q \n",
        "------ | ----- | ----------\n",
        "   V  |  V  |   V \n",
        "   V  |  F  |   F \n",
        "   F  |  V  |   V \n",
        "   F  |  F  |   V"
      ]
    },
    {
      "cell_type": "code",
      "execution_count": null,
      "id": "b576d81e",
      "metadata": {
        "id": "b576d81e",
        "outputId": "72cb71d7-9546-4919-8688-9248ba2fd9a4"
      },
      "outputs": [
        {
          "name": "stdout",
          "output_type": "stream",
          "text": [
            "False -> False = True\n",
            "False -> True = True\n",
            "True -> False = False\n",
            "True -> True = True\n"
          ]
        }
      ],
      "source": [
        "# Tabela da implicação\n",
        "bit = [False, True]\n",
        "\n",
        "for p in bit:\n",
        "  for q in bit:\n",
        "    print(p, '->', q, '=', not(p and not q))"
      ]
    },
    {
      "cell_type": "markdown",
      "id": "6f223c42",
      "metadata": {
        "id": "6f223c42"
      },
      "source": [
        "# Tabela Verdade :  Bi-implicação (*p $\\leftrightarrow$ q*)\n",
        "p | q | p $\\leftrightarrow$ q \n",
        "------ | ----- | ----------\n",
        "   V  |  V  |   V \n",
        "   V  |  F  |   F \n",
        "   F  |  V  |   F \n",
        "   F  |  F  |   V\n"
      ]
    },
    {
      "cell_type": "code",
      "execution_count": null,
      "id": "425586dd",
      "metadata": {
        "id": "425586dd",
        "outputId": "bc9bd15d-49a2-4886-efdf-ab16d422f880"
      },
      "outputs": [
        {
          "name": "stdout",
          "output_type": "stream",
          "text": [
            "False <-> False = True\n",
            "False <-> True = False\n",
            "True <-> False = False\n",
            "True <-> True = True\n"
          ]
        }
      ],
      "source": [
        "# Tabela da disjunção exclusiva\n",
        "bit = [False, True]\n",
        "\n",
        "for p in bit:\n",
        "  for q in bit:\n",
        "    print(p, '<->', q, '=', (p == q))"
      ]
    },
    {
      "cell_type": "markdown",
      "id": "469c3cc0",
      "metadata": {
        "id": "469c3cc0"
      },
      "source": [
        "# Exericio 01\n",
        "\n",
        "1) Relacione o valor lógico das proposições $p$, $q$, $r$ e\n",
        "$(p\\wedge (\\neg q))\\oplus (r\\vee p)$. "
      ]
    },
    {
      "cell_type": "code",
      "execution_count": null,
      "id": "9abd3c1c",
      "metadata": {
        "id": "9abd3c1c",
        "outputId": "a059ad41-82b0-45dd-a5fc-236b84b9e4c6"
      },
      "outputs": [
        {
          "name": "stdout",
          "output_type": "stream",
          "text": [
            "False False False  =  False\n",
            "False False True  =  True\n",
            "False True False  =  False\n",
            "False True True  =  True\n",
            "True False False  =  False\n",
            "True False True  =  False\n",
            "True True False  =  True\n",
            "True True True  =  True\n"
          ]
        }
      ],
      "source": [
        "valor = [False, True]\n",
        "\n",
        "for p in valor:\n",
        "    for q in valor:\n",
        "        for r in valor:\n",
        "            print( p, q, r, ' = ', (p and (not q)) != (r or p))"
      ]
    },
    {
      "cell_type": "markdown",
      "id": "2e839319",
      "metadata": {
        "id": "2e839319"
      },
      "source": [
        "# Exercicio 02\n",
        "\n",
        "2) Indique os valores (de verdade ou falsidade) das seguintes afirmações:\n",
        "- $3\\leq 7$ e 4 é um número inteiro ímpar.\n",
        "- $3\\leq 7$ ou 4 é um número inteiro ímpar.\n",
        "- 5 é ímpar ou divisível por 4."
      ]
    },
    {
      "cell_type": "code",
      "execution_count": null,
      "id": "07b8247b",
      "metadata": {
        "id": "07b8247b",
        "outputId": "6fc63a90-f1a8-457a-ccde-55c6a116ccac"
      },
      "outputs": [
        {
          "name": "stdout",
          "output_type": "stream",
          "text": [
            "False\n",
            "True\n",
            "True\n"
          ]
        }
      ],
      "source": [
        "p = 3\n",
        "q = 7\n",
        "r = int(7 - 3)\n",
        "s = 5\n",
        "\n",
        "#operador and = e\n",
        "print((p <= q) and (r % 2 != 0)) \n",
        "# p e menor ou igual a q e o resto da divisão de 2 é diferente de zero (condição de um numero impar)\n",
        "\n",
        "#operador or = ou\n",
        "print( (p <= q) or (r % 2 != 0)) \n",
        "# p e menor ou igual a q ou o resto da divisão de 2 é diferente de zero (condição de um numero impar)\n",
        "\n",
        "#operador or = ou\n",
        "print( (s % 2 != 0) or (r % 2 == 0)) \n",
        "# resto da divisão de dois diferente de 0 (numero impar) ou resto da divisão de dois igual a zero (numero par) \n",
        "\n"
      ]
    },
    {
      "cell_type": "markdown",
      "id": "54737a39",
      "metadata": {
        "id": "54737a39"
      },
      "source": [
        "# Exercicio 03\n",
        "\n",
        "Suponhamos que *p,q,r* representam as seguintes sentenças:\n",
        "\n",
        ">$p:$\"7 é um número inteiro par\"\n",
        "\n",
        ">$q:3+1=4$\n",
        "\n",
        ">$r:$\"24 é divisível por 8\"\n",
        "\n",
        "\n",
        "3) Escreva em linguagem simbólica as proposições\n",
        "\n",
        "1. $3+1\\neq 4$ e 24 é divisível por 8\n",
        "\n",
        "1. não é verdade que 7 seja ímpar ou 3+1=4\n",
        "\n",
        "1. se 3+1=4 então 24 não é divisível por 8"
      ]
    },
    {
      "cell_type": "code",
      "execution_count": null,
      "id": "dcdb4f93",
      "metadata": {
        "id": "dcdb4f93",
        "outputId": "647d9a46-3186-44c5-acba-0cd72d26eea8"
      },
      "outputs": [
        {
          "name": "stdout",
          "output_type": "stream",
          "text": [
            "1) ~q and r\n",
            "2) ~q or q \n",
            "3) q -> ~r\n"
          ]
        }
      ],
      "source": [
        "print('1) ~q and r') \n",
        "print('2) ~q or q ')\n",
        "print ('3) q -> ~r')\n"
      ]
    },
    {
      "cell_type": "markdown",
      "id": "64f8dca4",
      "metadata": {
        "id": "64f8dca4"
      },
      "source": [
        "# Exercicio 04\n",
        "\n",
        "4) Escreva por palavras as sentenças\n",
        "\n",
        "1. $p\\vee(\\neg q)$\n",
        "\n",
        "1. $\\neg(p\\wedge q)$\n",
        "\n",
        "1. $(\\neg r)\\vee (\\neg q)$"
      ]
    },
    {
      "cell_type": "code",
      "execution_count": null,
      "id": "15c527ff",
      "metadata": {
        "id": "15c527ff",
        "outputId": "4a0460b9-4c68-4bcb-9358-3629c386fb56"
      },
      "outputs": [
        {
          "name": "stdout",
          "output_type": "stream",
          "text": [
            " 1) p ou não q\n",
            " 2) nao p e q \n",
            " 3) nao r ou nao q\n"
          ]
        }
      ],
      "source": [
        "print(' 1) p ou não q')\n",
        "print(' 2) nao p e q ')\n",
        "print(' 3) nao r ou nao q')"
      ]
    },
    {
      "cell_type": "markdown",
      "id": "71c61785",
      "metadata": {
        "id": "71c61785"
      },
      "source": [
        "# Exercicio 05\n",
        "\n",
        "5) Construir as tabelas de verdade das seguintes proposições:\n",
        "1. $((p\\rightarrow q)\\wedge p)\\rightarrow q$\n",
        "1. $p\\leftrightarrow(q\\rightarrow r)$\n",
        "1. $(p\\wedge(\\neg p))\\rightarrow q$\n",
        "1. $((p\\vee r)\\wedge(q\\vee r))\\wedge((\\neg p)\\vee (\\neg r))$\n",
        "1. $(p\\wedge(q\\vee r))\\wedge (q\\wedge (p\\vee r))$"
      ]
    },
    {
      "cell_type": "code",
      "execution_count": null,
      "id": "a9c33148",
      "metadata": {
        "id": "a9c33148",
        "outputId": "2b19214b-9ee2-4277-cdb9-6b56fec379f1"
      },
      "outputs": [
        {
          "name": "stdout",
          "output_type": "stream",
          "text": [
            "False False  =  False\n",
            "False True  =  False\n",
            "True False  =  True\n",
            "True True  =  False\n"
          ]
        }
      ],
      "source": [
        "#Proposição 01 \n",
        "\n",
        "valor = [False, True]\n",
        "\n",
        "for p in valor:\n",
        "    for q in valor:\n",
        "        print(p, q, ' = ', ((p and not q) and (p)) and not q )"
      ]
    },
    {
      "cell_type": "code",
      "execution_count": null,
      "id": "cc41edf7",
      "metadata": {
        "id": "cc41edf7",
        "outputId": "4588e142-69d2-489d-cc64-1214cdf5859f"
      },
      "outputs": [
        {
          "name": "stdout",
          "output_type": "stream",
          "text": [
            "False False False  =  True\n",
            "False False True  =  True\n",
            "False True False  =  False\n",
            "False True True  =  True\n",
            "True False False  =  False\n",
            "True False True  =  False\n",
            "True True False  =  True\n",
            "True True True  =  False\n"
          ]
        }
      ],
      "source": [
        "# Proposição 02 \n",
        "\n",
        "valor = [False, True]\n",
        "\n",
        "for p in valor:\n",
        "    for q in valor:\n",
        "        for r in valor:\n",
        "            print( p, q, r, ' = ', p == (q and not r))"
      ]
    },
    {
      "cell_type": "code",
      "execution_count": null,
      "id": "43b8430a",
      "metadata": {
        "id": "43b8430a",
        "outputId": "a1fd4e4c-ce68-4ace-c164-8f5eaa28e3d1"
      },
      "outputs": [
        {
          "name": "stdout",
          "output_type": "stream",
          "text": [
            "False False  =  False\n",
            "False True  =  False\n",
            "True False  =  True\n",
            "True True  =  False\n"
          ]
        }
      ],
      "source": [
        "# Proposição 03 \n",
        "\n",
        "valor = [False, True] \n",
        "\n",
        "for p in valor:\n",
        "    for q in valor:\n",
        "        print(p, q, ' = ', (p and (not q)) and not q)"
      ]
    },
    {
      "cell_type": "code",
      "execution_count": null,
      "id": "7e95caa9",
      "metadata": {
        "id": "7e95caa9",
        "outputId": "31bc0784-14a0-40e2-d5b3-eb5907fc7861"
      },
      "outputs": [
        {
          "name": "stdout",
          "output_type": "stream",
          "text": [
            "False False False  =  False\n",
            "False False True  =  True\n",
            "False True False  =  False\n",
            "False True True  =  True\n",
            "True False False  =  False\n",
            "True False True  =  False\n",
            "True True False  =  True\n",
            "True True True  =  False\n"
          ]
        }
      ],
      "source": [
        "# Proposição 04 \n",
        "\n",
        "valor = [False, True] \n",
        "\n",
        "for p in valor:\n",
        "    for q in valor:\n",
        "        for r in valor:\n",
        "            print(p, q, r, ' = ', ( (p or r) and (q or r) ) and ( (not p) or (not r) ) )"
      ]
    },
    {
      "cell_type": "code",
      "execution_count": null,
      "id": "3d9dd572",
      "metadata": {
        "id": "3d9dd572",
        "outputId": "bb67097d-480a-4243-d69f-99bae1c5aa61"
      },
      "outputs": [
        {
          "name": "stdout",
          "output_type": "stream",
          "text": [
            "False False False  =  True\n",
            "False False True  =  True\n",
            "False True False  =  True\n",
            "False True True  =  True\n",
            "True False False  =  True\n",
            "True False True  =  True\n",
            "True True False  =  True\n",
            "True True True  =  True\n"
          ]
        }
      ],
      "source": [
        "# Proposição 05 \n",
        "\n",
        "valor = [False, True]\n",
        "\n",
        "for p in valor:\n",
        "    for q in valor:\n",
        "        for r in valor:\n",
        "            print (p, q, r, ' = ', ( (p and (q or r)) or (not p) or (not r))) "
      ]
    },
    {
      "cell_type": "markdown",
      "id": "0b8a9c72",
      "metadata": {
        "id": "0b8a9c72"
      },
      "source": [
        "# Exercicio 06\n",
        "\n",
        "6) Quantas linhas tem a tabela de verdade de uma proposição com $n$ variáveis proposicionais?"
      ]
    },
    {
      "cell_type": "code",
      "execution_count": null,
      "id": "8ce325d4",
      "metadata": {
        "id": "8ce325d4",
        "outputId": "fcc2a341-ddab-4b2c-cc58-41831466531a"
      },
      "outputs": [
        {
          "name": "stdout",
          "output_type": "stream",
          "text": [
            "potencia: de 2 a  1 : 2\n",
            "potencia: de 2 a  2 : 4\n",
            "potencia: de 2 a  3 : 8\n",
            "potencia: de 2 a  4 : 16\n",
            "potencia: de 2 a  5 : 32\n",
            "potencia: de 2 a  6 : 64\n",
            "potencia: de 2 a  7 : 128\n",
            "potencia: de 2 a  8 : 256\n",
            "potencia: de 2 a  9 : 512\n",
            "potencia: de 2 a  10 : 1024\n"
          ]
        }
      ],
      "source": [
        "for n in range(1,11) :\n",
        "    print('potencia: de 2 a ', n, ':' , 2**n)"
      ]
    }
  ],
  "metadata": {
    "kernelspec": {
      "display_name": "Python 3 (ipykernel)",
      "language": "python",
      "name": "python3"
    },
    "language_info": {
      "codemirror_mode": {
        "name": "ipython",
        "version": 3
      },
      "file_extension": ".py",
      "mimetype": "text/x-python",
      "name": "python",
      "nbconvert_exporter": "python",
      "pygments_lexer": "ipython3",
      "version": "3.9.12"
    },
    "colab": {
      "name": "matematica discreta em python-checkpoint.ipynb",
      "provenance": [],
      "include_colab_link": true
    }
  },
  "nbformat": 4,
  "nbformat_minor": 5
}