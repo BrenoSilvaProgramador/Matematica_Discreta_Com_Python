{
  "nbformat": 4,
  "nbformat_minor": 0,
  "metadata": {
    "colab": {
      "name": "Untitled0.ipynb",
      "provenance": [],
      "collapsed_sections": [
        "ai2DokGJUlTI",
        "ztTR5wJpUtl_",
        "AlxnCRctUyNQ",
        "XxvgFgHJXHQH",
        "rkcWWo05BE8q",
        "bJ4l9cpLYbFq",
        "wCK42evM9XlU",
        "yPrJzX-aOqiH",
        "dhFao5XgRWWG",
        "J-PzRfdcW2fs",
        "Z6iMbAD8blXx",
        "TTxA6aYETYe2"
      ],
      "include_colab_link": true
    },
    "kernelspec": {
      "name": "python3",
      "display_name": "Python 3"
    },
    "language_info": {
      "name": "python"
    }
  },
  "cells": [
    {
      "cell_type": "markdown",
      "metadata": {
        "id": "view-in-github",
        "colab_type": "text"
      },
      "source": [
        "<a href=\"https://colab.research.google.com/github/BrenoSilvaProgramador/Pyhton_Aprendizado/blob/main/Introdu%C3%A7%C3%A3o_ao%20_Python-principais_Comandos.ipynb\" target=\"_parent\"><img src=\"https://colab.research.google.com/assets/colab-badge.svg\" alt=\"Open In Colab\"/></a>"
      ]
    },
    {
      "cell_type": "markdown",
      "source": [
        "#Utilizando if e else em Python\n"
      ],
      "metadata": {
        "id": "ai2DokGJUlTI"
      }
    },
    {
      "cell_type": "code",
      "execution_count": null,
      "metadata": {
        "id": "7pa0xBMBUc9G"
      },
      "outputs": [],
      "source": [
        "# Utilizando if e else em Python\n",
        "\n",
        "#____________________________________________________________#\n",
        "                      #programa 01\n",
        "#____________________________________________________________#\n",
        "\n",
        "subtracao = 5 - 3\n",
        "\n",
        "if subtracao == 2:\n",
        "    print(subtracao == 2, '\\n')\n",
        "else :\n",
        "    print('false\\n')\n",
        "\n",
        "#____________________________________________________________#\n",
        "                      #programa 02\n",
        "#____________________________________________________________#\n",
        "\n",
        "idade = int(input('Qual a sua idade?')) #tratamento de dados!\n",
        "\n",
        "if idade > 5 and idade < 18:\n",
        "  print('Você tem menos de 18 anos!')\n",
        "elif idade < 5:\n",
        "  print('Insira uma idade valida seu palhaço!')\n",
        "elif idade >= 18 and idade < 50:\n",
        "  print('Você é um adulto!')\n",
        "else:\n",
        "  print('Você é um velho!')\n"
      ]
    },
    {
      "cell_type": "markdown",
      "source": [
        "#Utilizando for no Python"
      ],
      "metadata": {
        "id": "ztTR5wJpUtl_"
      }
    },
    {
      "cell_type": "code",
      "source": [
        "# Utilizando for em Python\n",
        "\n",
        "#____________________________________________________________#\n",
        "                      #programa 01\n",
        "#____________________________________________________________#\n",
        "\n",
        "for n in range(2):\n",
        "  print('\\n', n, '--> Eu sou um...')\n",
        "\n",
        "#____________________________________________________________#\n",
        "                      #programa 02\n",
        "#____________________________________________________________#\n",
        "\n",
        "palavra = 'Programação'\n",
        "\n",
        "for i in palavra:\n",
        "  print('\\n', i)\n",
        "\n",
        "#____________________________________________________________#\n",
        "                      #programa 03\n",
        "#____________________________________________________________#\n",
        "\n",
        "lista = [1, 2, 3, 45, 78]\n",
        "for contador in lista:\n",
        "  print('\\n',contador, lista)"
      ],
      "metadata": {
        "id": "FZgjNVuLUspl"
      },
      "execution_count": null,
      "outputs": []
    },
    {
      "cell_type": "markdown",
      "source": [
        "#Utilizando a função Input e tratando dados em Python\n"
      ],
      "metadata": {
        "id": "AlxnCRctUyNQ"
      }
    },
    {
      "cell_type": "code",
      "source": [
        "1\n",
        "#Funcao input e tratamento de dados\n",
        "Nome = input('Qual o seu nome?')\n",
        "print(Nome, 'Bem Vindo !')\n",
        "\n",
        "numero_01 = int(input('Favor insira um numero: ')) #tratamento de dados String -> Int\n",
        "numero_02 = int(input('Favor insira um numero: ')) #tratamento de dados String -> Int\n",
        "soma = numero_01 + numero_02\n",
        "print('A somatoria do numero', numero_01, 'com o', numero_02, 'e:', soma)"
      ],
      "metadata": {
        "id": "9zRBlACbUs8S"
      },
      "execution_count": null,
      "outputs": []
    },
    {
      "cell_type": "markdown",
      "source": [
        "#Usando o While em Python\n"
      ],
      "metadata": {
        "id": "XxvgFgHJXHQH"
      }
    },
    {
      "cell_type": "code",
      "source": [
        "# While em Python\n",
        "\n",
        "#____________________________________________________________#\n",
        "                      #programa 01\n",
        "#____________________________________________________________#\n",
        "import time #biblioteca time\n",
        "contador = 0\n",
        "while contador < 5:\n",
        "  print('ainda nao deu!')\n",
        "  contador += 1\n",
        "  time.sleep(1) #funcao da biblioteca time\n",
        "  if contador == 3:\n",
        "    break   # comando break\n",
        "print('Agora deu!')\n",
        "\n",
        "#____________________________________________________________#\n",
        "                      #programa 02\n",
        "#____________________________________________________________#\n",
        "\n",
        "numero = int(input('Digite um numero: '))\n",
        "fatorial = numero\n",
        "contador = 1 \n",
        "while (numero-contador) > 1:\n",
        "  fatorial *= (numero-contador)\n",
        "  contador += 1\n",
        "print(\"{0}! = {1}\".format(numero,fatorial))"
      ],
      "metadata": {
        "id": "VvztMtBlXLsm"
      },
      "execution_count": null,
      "outputs": []
    },
    {
      "cell_type": "markdown",
      "source": [
        "#Bibliotecas em Python"
      ],
      "metadata": {
        "id": "rkcWWo05BE8q"
      }
    },
    {
      "cell_type": "code",
      "source": [
        "#Bibliotecas em Python\n",
        "\n",
        "#biblioteca math\n",
        "import math \n",
        "print(math.factorial(5))\n",
        "\n",
        "#biblioteca datetime\n",
        "import datetime \n",
        "datetime.date.isoformat(datetime.date.today())\n"
      ],
      "metadata": {
        "id": "HBwfTv1rBIWX"
      },
      "execution_count": null,
      "outputs": []
    },
    {
      "cell_type": "markdown",
      "source": [
        "#Criando Funções em Python"
      ],
      "metadata": {
        "id": "bJ4l9cpLYbFq"
      }
    },
    {
      "cell_type": "code",
      "source": [
        "def soma():\n",
        "  numero_01 = float(input('Insira um numero:'))\n",
        "  numero_02 = float(input('Insira outro numero:'))\n",
        "  soma = numero_01 + numero_02\n",
        "  if soma > 100:\n",
        "    print('A soma dos numeros:', numero_01, 'e', numero_02, 'resulta em:', soma,'\\nUm numero que e maior que 100!')\n",
        "  else:\n",
        "    print('A soma dos numeros:', numero_01, 'e', numero_02, 'resulta em:', soma)\n",
        "\n",
        "soma()"
      ],
      "metadata": {
        "id": "VVElmgfMYfz3"
      },
      "execution_count": null,
      "outputs": []
    },
    {
      "cell_type": "markdown",
      "source": [
        "#Listas em Python"
      ],
      "metadata": {
        "id": "wCK42evM9XlU"
      }
    },
    {
      "cell_type": "code",
      "source": [
        "#Listas em Python ---> [] <---\n",
        "\n",
        "#____________________________________________________________#\n",
        "\n",
        "                      #programa 01\n",
        "#____________________________________________________________#\n",
        "lista_01 = [1,2,3]\n",
        "print(type(lista_01))\n",
        "\n",
        "lista_02 = [ [1,2,3],  [4,5,6],  [7,8,9] ]\n",
        "print(type(lista_02))\n",
        "\n",
        "print(lista_01[0])    #posicao 01\n",
        "print(lista_01[1])    #posicao 02\n",
        "print(lista_02[2])    #posicao 03\n",
        "print(lista_02[2][0]) #posicao da lista 2 na posicao 0\n",
        "\n",
        "select = lista_02[1]\n",
        "print(select)\n",
        "print(type(select))\n",
        "\n",
        "\n",
        "\n",
        "#____________________________________________________________#\n",
        "\n",
        "                      #programa 02\n",
        "#____________________________________________________________#\n",
        "\n",
        "import random\n",
        "cidades = ['Sao Paulo', 'Rio de Janeiro', 'Belo Horizonte',' Vitoria']\n",
        "escolhida = random.choice(cidades) #escolhe um elemento alatorio da lista cidades\n",
        "print('\\nA cidade escolhida foi: ', escolhida)\n",
        "\n",
        "a = [1, 2, 3]\n",
        "a.append(15)  #adiciona um elemento no final da lista\n",
        "print('\\n',a)\n",
        "b = [4,5,6]\n",
        "for item in b:\n",
        "  a.append(item)\n",
        "print('\\n', a)\n",
        "\n",
        "#____________________________________________________________#\n",
        "\n",
        "                      #exercicio 01\n",
        "#____________________________________________________________#\n",
        "\n",
        "x= [2,4,10,6]\n",
        "nova = []\n",
        "for i in x:\n",
        "  nova.append(float(i))\n",
        "print('\\n\\n', nova)"
      ],
      "metadata": {
        "id": "dqXIx2GY9TIV"
      },
      "execution_count": null,
      "outputs": []
    },
    {
      "cell_type": "markdown",
      "source": [
        "#Tupla em Python"
      ],
      "metadata": {
        "id": "yPrJzX-aOqiH"
      }
    },
    {
      "cell_type": "code",
      "source": [
        "#Tupla em Python ---> Tuplas são lista que não podem ser alteradas (comandos como o dell não funcionam!) ---> () <---\n",
        "\n",
        "Tupla = (1, 2, 4, 9)\n",
        "print(Tupla)\n",
        "\n",
        "lista = [1, 2, 4, 8, 16]\n",
        "Tupla = tuple(lista)\n",
        "print(Tupla)\n",
        "print(type(Tupla))\n"
      ],
      "metadata": {
        "colab": {
          "base_uri": "https://localhost:8080/"
        },
        "id": "E8f_L8j0OsmZ",
        "outputId": "b7ced74a-0d64-47ad-b092-19f250d7a549"
      },
      "execution_count": null,
      "outputs": [
        {
          "output_type": "stream",
          "name": "stdout",
          "text": [
            "(1, 2, 4, 9)\n",
            "(1, 2, 4, 8, 16)\n",
            "<class 'tuple'>\n"
          ]
        }
      ]
    },
    {
      "cell_type": "markdown",
      "source": [
        "#Dicionario em Python"
      ],
      "metadata": {
        "id": "dhFao5XgRWWG"
      }
    },
    {
      "cell_type": "code",
      "source": [
        "#Dicionario ---> {} <---\n",
        "\n",
        "Dicionario = {'Curso'            : 'Arduino', \n",
        "              'Aluno'            : 'Breno Silva',\n",
        "              'Plataforma'       : 'CFBcursos',\n",
        "              'Preço'            : 'Gratuito',\n",
        "              'Lindeza do aluno' : 10}\n",
        "\n",
        "print('Aluno: ', Dicionario['Aluno'])\n",
        "print('Nota de Beleza: ', Dicionario['Lindeza do aluno'])\n",
        "Dicionario = {'pre-requsito' :  'Programação em C'}\n",
        "print(Dicionario.keys())\n",
        "print(Dicionario.values())\n",
        "print(Dicionario.items())\n",
        "#Dicionario.clear() Comando para limpar o dicionario"
      ],
      "metadata": {
        "colab": {
          "base_uri": "https://localhost:8080/"
        },
        "id": "RzPayNYTRYw-",
        "outputId": "a991f4eb-6aef-4d02-b273-e1cc7cc63271"
      },
      "execution_count": null,
      "outputs": [
        {
          "output_type": "stream",
          "name": "stdout",
          "text": [
            "Aluno:  Breno Silva\n",
            "Nota de Beleza:  10\n",
            "dict_keys(['pre-requsito'])\n",
            "dict_values(['Programação em C'])\n",
            "dict_items([('pre-requsito', 'Programação em C')])\n"
          ]
        }
      ]
    },
    {
      "cell_type": "markdown",
      "source": [
        "#Manipulando Strings"
      ],
      "metadata": {
        "id": "J-PzRfdcW2fs"
      }
    },
    {
      "cell_type": "code",
      "source": [
        "#Manipulando Strings\n",
        "\n",
        "frase = 'eu estou amando programar em Python :('\n",
        "print(frase)\n",
        "print(frase[0:15])\n",
        "print(frase[0:15:2])\n",
        "print(frase.count('u'))\n",
        "print(len(frase))\n",
        "print(frase.replace('amando','odiando'))"
      ],
      "metadata": {
        "id": "9dwgoBaMW49D"
      },
      "execution_count": null,
      "outputs": []
    },
    {
      "cell_type": "markdown",
      "source": [
        "#Funcao Lambda e Funções anonimas"
      ],
      "metadata": {
        "id": "Z6iMbAD8blXx"
      }
    },
    {
      "cell_type": "code",
      "source": [
        "#Funcao básica em Python ----------------------\n",
        "\n",
        "def soma_quadrados(a,b):\n",
        "  soma = a**2 + b**2\n",
        "  return soma\n",
        "\n",
        "a = float(input('Insira o primeiro valor: '))\n",
        "b = float(input('Insira o segundo valor: '))\n",
        "\n",
        "print('os valores :', soma_quadrados(a,b))\n",
        "\n",
        "#Função Lambda --------------------------------\n",
        "\n",
        "soma_quadradosL = lambda a, b: a**2 + b**2\n",
        "\n",
        "a = float(input('Insira o primeiro valor: '))\n",
        "b = float(input('Insira o segundo valor: '))\n",
        "\n",
        "print('os valores', soma_quadradosL(a,b))\n",
        "\n",
        "f = lambda x : x / 2\n",
        "x = float(input('Insira um valor e descubra sua metade: '))\n",
        "print('O valor: ', f(x))\n",
        "\n",
        "#Funcao map()\n",
        "kph = [30, 20, 10, 50, 60, 75, 90]\n",
        "mph = []\n",
        "\n",
        "for contador in kph:\n",
        "  mph.append(float(contador/1.61))\n",
        "print(mph)\n",
        "\n",
        "mph2 = list(map(lambda x: x/1.61, kph))\n",
        "print(mph2);\n",
        "\n",
        "# List Comprehension\n",
        "mph3 = [x/1.61 for x in kph]\n",
        "print(mph3)\n"
      ],
      "metadata": {
        "colab": {
          "base_uri": "https://localhost:8080/"
        },
        "id": "bX2zAfNWbqyM",
        "outputId": "8492b500-211b-4c9e-b422-c777a81d61eb"
      },
      "execution_count": null,
      "outputs": [
        {
          "output_type": "stream",
          "name": "stdout",
          "text": [
            "Insira o primeiro valor: 10\n",
            "Insira o segundo valor: 20\n",
            "os valores : 500.0\n",
            "Insira o primeiro valor: 34\n",
            "Insira o segundo valor: 12\n",
            "os valores 1300.0\n",
            "Insira um valor e descubra sua metade: 12\n",
            "O valor:  6.0\n",
            "[18.633540372670808, 12.422360248447204, 6.211180124223602, 31.05590062111801, 37.267080745341616, 46.58385093167701, 55.90062111801242]\n",
            "[18.633540372670808, 12.422360248447204, 6.211180124223602, 31.05590062111801, 37.267080745341616, 46.58385093167701, 55.90062111801242]\n",
            "[18.633540372670808, 12.422360248447204, 6.211180124223602, 31.05590062111801, 37.267080745341616, 46.58385093167701, 55.90062111801242]\n"
          ]
        }
      ]
    },
    {
      "cell_type": "markdown",
      "source": [
        "#Numpy em Python"
      ],
      "metadata": {
        "id": "TTxA6aYETYe2"
      }
    },
    {
      "cell_type": "code",
      "source": [
        "#matrizes e vetores em Python\n",
        "import numpy as np\n",
        "a = np.array([1,2,3])\n",
        "print(a)\n",
        "b = np.array([ (1,2,3), \n",
        "               (4,5,6), \n",
        "               (7,8,9),\n",
        "              (10,11,12) ])\n",
        "print('\\n', b)\n",
        "c= np.ones((4,3))\n",
        "print('\\n', c)\n",
        "\n",
        "d = np.eye(4)\n",
        "print('\\n', d)\n",
        "\n",
        "#Operações especiais \n",
        "# .min ---> retorna o menor valor  \n",
        "# .max ---> retorna o maior valor\n",
        "# .sun ---> retorna a somatoria dos valores\n",
        "# .mean ---> retorna a media dos valores\n",
        "# .std ---> retorna o desvio padrao"
      ],
      "metadata": {
        "colab": {
          "base_uri": "https://localhost:8080/"
        },
        "id": "ZFf0OuvhYYSa",
        "outputId": "1841cc39-a34a-4da9-96f7-a0cad17a0ceb"
      },
      "execution_count": null,
      "outputs": [
        {
          "output_type": "stream",
          "name": "stdout",
          "text": [
            "[1 2 3]\n",
            "\n",
            " [[ 1  2  3]\n",
            " [ 4  5  6]\n",
            " [ 7  8  9]\n",
            " [10 11 12]]\n",
            "\n",
            " [[1. 1. 1.]\n",
            " [1. 1. 1.]\n",
            " [1. 1. 1.]\n",
            " [1. 1. 1.]]\n",
            "\n",
            " [[1. 0. 0. 0.]\n",
            " [0. 1. 0. 0.]\n",
            " [0. 0. 1. 0.]\n",
            " [0. 0. 0. 1.]]\n"
          ]
        },
        {
          "output_type": "execute_result",
          "data": {
            "text/plain": [
              "12"
            ]
          },
          "metadata": {},
          "execution_count": 21
        }
      ]
    },
    {
      "cell_type": "markdown",
      "source": [
        "#Biblioteca Pandas no Python"
      ],
      "metadata": {
        "id": "tCxtxXenb09a"
      }
    }
  ]
}