{
  "nbformat": 4,
  "nbformat_minor": 0,
  "metadata": {
    "colab": {
      "name": "ECOM01 - 2022.1 - 1.13 - Atividade Avaliativa.ipynb",
      "provenance": [],
      "collapsed_sections": [],
      "include_colab_link": true
    },
    "kernelspec": {
      "name": "python3",
      "display_name": "Python 3"
    },
    "language_info": {
      "name": "python"
    }
  },
  "cells": [
    {
      "cell_type": "markdown",
      "metadata": {
        "id": "view-in-github",
        "colab_type": "text"
      },
      "source": [
        "<a href=\"https://colab.research.google.com/github/BrenoSilvaProgramador/Pyhton_Aprendizado/blob/main/ECOM01_2022_1_1_13_Atividade_Avaliativa.ipynb\" target=\"_parent\"><img src=\"https://colab.research.google.com/assets/colab-badge.svg\" alt=\"Open In Colab\"/></a>"
      ]
    },
    {
      "cell_type": "markdown",
      "source": [
        "# Objetivos"
      ],
      "metadata": {
        "id": "tlHO2d7tel9G"
      }
    },
    {
      "cell_type": "markdown",
      "source": [
        "Esta atividade visa verificar o conhecimento em lógica proposicional apresentada na disciplina. "
      ],
      "metadata": {
        "id": "Lwd5JeVI32nU"
      }
    },
    {
      "cell_type": "markdown",
      "source": [
        "# Fonte de Dados"
      ],
      "metadata": {
        "id": "TB176U46jSHB"
      }
    },
    {
      "cell_type": "markdown",
      "source": [
        "Forneça seu número de matrícula para gerar uma nova fonte de dados.\n",
        "\n",
        "**Atenção:** se não fornecida a matrícula corretamente a atividade será anulada."
      ],
      "metadata": {
        "id": "B7c5-15mjvFo"
      }
    },
    {
      "cell_type": "code",
      "execution_count": null,
      "metadata": {
        "id": "FqdfHPnXedgU"
      },
      "outputs": [],
      "source": [
        "matricula = 2021008603 #@param {type:\"number\"}\n",
        "\n",
        "# gerando fonte de dados\n",
        "from sklearn.datasets import make_blobs\n",
        "num_colunas=5\n",
        "num_linhas=1000\n",
        "X, y = make_blobs(n_samples=num_linhas, n_features=num_colunas, \n",
        "                  cluster_std=4.0, random_state=matricula)\n",
        "\n",
        "# visualizado fonte de dados\n",
        "import pandas as pd\n",
        "nome_colunas = [f'Atr{i+1}' for i in range(0,num_colunas)]\n",
        "fonte = pd.DataFrame(data=X,columns=nome_colunas)\n",
        "fonte['Classe'] = y\n",
        "fonte.head(1000)"
      ]
    },
    {
      "cell_type": "markdown",
      "source": [
        "## Gerador de Equações Booleanas"
      ],
      "metadata": {
        "id": "9ukZMDmXmLik"
      }
    },
    {
      "cell_type": "markdown",
      "source": [
        "Execute este bloco para gerar as atividades deste notebook."
      ],
      "metadata": {
        "id": "S3Jp5l3m3bSo"
      }
    },
    {
      "cell_type": "code",
      "source": [
        "import gdown\n",
        "gdown.download('https://drive.google.com/uc?id=1N33RVvbMAqAM6TjYlMVx8UWCsX1YcYCe','ExtratorArgumentos.py')\n",
        "from ExtratorArgumentos import equacoes_booleanas\n",
        "argumentos = equacoes_booleanas(X,y,nome_colunas)"
      ],
      "metadata": {
        "id": "5DvWUOYy2nVH"
      },
      "execution_count": null,
      "outputs": []
    },
    {
      "cell_type": "markdown",
      "source": [
        "# Exercícios"
      ],
      "metadata": {
        "id": "Xdu7za363gZz"
      }
    },
    {
      "cell_type": "markdown",
      "source": [
        "## Exercício 1"
      ],
      "metadata": {
        "id": "sjc8IYUE4V2Q"
      }
    },
    {
      "cell_type": "markdown",
      "source": [
        "**10% da nota total da atividade.**\n",
        "\n",
        "Gere as fórmulas atômicas abaixo:"
      ],
      "metadata": {
        "id": "_SlbBf_3-KbA"
      }
    },
    {
      "cell_type": "code",
      "source": [
        "# Enunciado (EXECUTE!)\n",
        "print('Fórmulas atômicas:')\n",
        "for formula in argumentos['formulas']:\n",
        "  print('   ',formula)"
      ],
      "metadata": {
        "id": "reA1-Go6-Vd0"
      },
      "execution_count": null,
      "outputs": []
    },
    {
      "cell_type": "markdown",
      "source": [
        "Fórmulas atômicas:"
      ],
      "metadata": {
        "id": "AK42X4EA-WGh"
      }
    },
    {
      "cell_type": "code",
      "source": [
        "# Formula atomica A\n",
        "A = (fonte['Atr2'] <= -0.7936)\n",
        "A.head"
      ],
      "metadata": {
        "id": "AlEnVlXl-YM3"
      },
      "execution_count": null,
      "outputs": []
    },
    {
      "cell_type": "code",
      "source": [
        "# Formula atomica B\n",
        "B = (fonte['Atr5'] <= 9.3846)\n",
        "B.head"
      ],
      "metadata": {
        "id": "gFs2Gj-AcQgB"
      },
      "execution_count": null,
      "outputs": []
    },
    {
      "cell_type": "code",
      "source": [
        "# Formula atomica C\n",
        "C = (fonte['Atr1'] <= - 1.76)\n",
        "C.head"
      ],
      "metadata": {
        "id": "Q65AGvj0cyRh"
      },
      "execution_count": null,
      "outputs": []
    },
    {
      "cell_type": "code",
      "source": [
        "# Fórmula atomica D\n",
        "D = (fonte['Atr3'] <= -2.1248)\n",
        "D.head"
      ],
      "metadata": {
        "id": "Og4aSkjpdNhC"
      },
      "execution_count": null,
      "outputs": []
    },
    {
      "cell_type": "code",
      "source": [
        "# Fórmula atomica E\n",
        "E = (fonte['Atr3'] <= 5.7414)\n",
        "E.head"
      ],
      "metadata": {
        "id": "LllnNPFjdezx"
      },
      "execution_count": null,
      "outputs": []
    },
    {
      "cell_type": "code",
      "source": [
        "# Formula atomica F\n",
        "F = (fonte['Atr2'] <= -5.3299)\n",
        "F.head"
      ],
      "metadata": {
        "id": "3MGoWCqJdr6K"
      },
      "execution_count": null,
      "outputs": []
    },
    {
      "cell_type": "code",
      "source": [
        "# Formula atomica G\n",
        "G = (fonte['Atr3'] <= 0.5432)\n",
        "G.head"
      ],
      "metadata": {
        "id": "eZ8ryP_AeCKq"
      },
      "execution_count": null,
      "outputs": []
    },
    {
      "cell_type": "code",
      "source": [
        "# Formula atomica H\n",
        "H = (fonte['Atr3'] <= -2.8985)\n",
        "H.head "
      ],
      "metadata": {
        "id": "oWhIoG2YeeLM"
      },
      "execution_count": null,
      "outputs": []
    },
    {
      "cell_type": "code",
      "source": [
        "# Formula atomica I\n",
        "I = (fonte['Atr1'] <= 5.8757)\n",
        "I.head"
      ],
      "metadata": {
        "id": "qeyngITUetZR"
      },
      "execution_count": null,
      "outputs": []
    },
    {
      "cell_type": "code",
      "source": [
        "# Formula atomica J\n",
        "J = (fonte['Atr5'] <= 6.2839)\n",
        "J.head"
      ],
      "metadata": {
        "id": "gZ8Sk0Z6fRbx"
      },
      "execution_count": null,
      "outputs": []
    },
    {
      "cell_type": "code",
      "source": [
        "# Formula atomica K\n",
        "K = (fonte['Atr2'] <= 5.079)\n",
        "K.head"
      ],
      "metadata": {
        "id": "CKlR3SxIff03"
      },
      "execution_count": null,
      "outputs": []
    },
    {
      "cell_type": "code",
      "source": [
        "# Formula atomica L \n",
        "L = (fonte['Atr1'] <= -4.2925)\n",
        "L.head"
      ],
      "metadata": {
        "id": "vmybSH1Jfr0C"
      },
      "execution_count": null,
      "outputs": []
    },
    {
      "cell_type": "code",
      "source": [
        "# Fórmula atomica M\n",
        "M = (fonte['Atr2'] <= 3.3392)\n",
        "M.head"
      ],
      "metadata": {
        "id": "UO5IcQCtf9u5"
      },
      "execution_count": null,
      "outputs": []
    },
    {
      "cell_type": "code",
      "source": [
        "# Fórmula atomica N\n",
        "N = (fonte['Atr5'] <= -4.548)\n",
        "N.head"
      ],
      "metadata": {
        "id": "Yi_oc_MEgTEg"
      },
      "execution_count": null,
      "outputs": []
    },
    {
      "cell_type": "markdown",
      "source": [
        "## Exercício 2"
      ],
      "metadata": {
        "id": "l9CjixWP-IkW"
      }
    },
    {
      "cell_type": "markdown",
      "source": [
        "**15% da nota total da atividade.**\n",
        "\n",
        "Obtenha a tabela verdade das seguintes equações lógicas:"
      ],
      "metadata": {
        "id": "-N8_l3YT5xOW"
      }
    },
    {
      "cell_type": "code",
      "source": [
        "# Enunciado do exercício\n",
        "import random\n",
        "random.seed(matricula)\n",
        "indices = list(range(0,len(argumentos['hipoteses'])))\n",
        "random.shuffle(indices)\n",
        "print('Equações lógicas:')\n",
        "for i in range(0,min([len(argumentos['hipoteses']),10])):\n",
        "  print('   ',f'Eq_{i+1:0>2}:',argumentos['hipoteses'][indices[i]])"
      ],
      "metadata": {
        "id": "RdtL_zeN4gTj",
        "colab": {
          "base_uri": "https://localhost:8080/"
        },
        "outputId": "6abbe039-739a-4d92-da28-587d4503bfbf"
      },
      "execution_count": 74,
      "outputs": [
        {
          "output_type": "stream",
          "name": "stdout",
          "text": [
            "Equações lógicas:\n",
            "    Eq_01: A & ~B & F & ~G\n",
            "    Eq_02: ~A & ~H & ~L & ~N\n",
            "    Eq_03: ~A & ~H & ~L & N\n",
            "    Eq_04: ~A & H & I & J\n",
            "    Eq_05: A & ~B & F & G\n",
            "    Eq_06: A & ~B & ~F\n",
            "    Eq_07: ~A & H & ~I & K\n",
            "    Eq_08: A & B & C & ~D\n",
            "    Eq_09: ~A & H & I & ~J\n",
            "    Eq_10: ~A & ~H & L & M\n"
          ]
        }
      ]
    },
    {
      "cell_type": "markdown",
      "source": [
        "Solução:"
      ],
      "metadata": {
        "id": "swDZkKkW6ZlA"
      }
    },
    {
      "cell_type": "code",
      "source": [
        "# Equação 01\n",
        "Eq_01 = A & ~B & F & ~G\n",
        "Eq_01"
      ],
      "metadata": {
        "id": "0VxWKKib-C5q"
      },
      "execution_count": null,
      "outputs": []
    },
    {
      "cell_type": "code",
      "source": [
        "# Equação 02\n",
        "Eq_02 = ~A & ~H & ~L & ~N\n",
        "Eq_02"
      ],
      "metadata": {
        "id": "RCsWxEy4BOEa"
      },
      "execution_count": null,
      "outputs": []
    },
    {
      "cell_type": "code",
      "source": [
        "# Equação 03\n",
        "Eq_03 = ~A & ~H & ~L & N\n",
        "Eq_03"
      ],
      "metadata": {
        "id": "-epUsxMx9Sf1"
      },
      "execution_count": null,
      "outputs": []
    },
    {
      "cell_type": "code",
      "source": [
        "# Equação 04\n",
        "Eq_04 = ~A & H & I & J\n",
        "Eq_04"
      ],
      "metadata": {
        "id": "hHwxC6IYha0R"
      },
      "execution_count": null,
      "outputs": []
    },
    {
      "cell_type": "code",
      "source": [
        "# Equação 05\n",
        "Eq_05 = A & ~B & F & G\n",
        "Eq_05"
      ],
      "metadata": {
        "id": "fWh2aNSyhbDg"
      },
      "execution_count": null,
      "outputs": []
    },
    {
      "cell_type": "code",
      "source": [
        "# Equação 06\n",
        "Eq_06 = A & ~B & ~F\n",
        "Eq_06"
      ],
      "metadata": {
        "id": "X3OdUqVQhbM2"
      },
      "execution_count": null,
      "outputs": []
    },
    {
      "cell_type": "code",
      "source": [
        "# Equação 07\n",
        "Eq_07 = ~A & H & ~I & K\n",
        "Eq_07"
      ],
      "metadata": {
        "id": "wYeCCFlmhbUn"
      },
      "execution_count": null,
      "outputs": []
    },
    {
      "cell_type": "code",
      "source": [
        "# Equação 08\n",
        "Eq_08 = A & B & C & ~D\n",
        "Eq_08"
      ],
      "metadata": {
        "id": "hADeTp-mhbdQ"
      },
      "execution_count": null,
      "outputs": []
    },
    {
      "cell_type": "code",
      "source": [
        "# Equação 09\n",
        "Eq_09 = ~A & H & I & ~J\n",
        "Eq_09"
      ],
      "metadata": {
        "id": "VfK77QA8hbnP"
      },
      "execution_count": null,
      "outputs": []
    },
    {
      "cell_type": "code",
      "source": [
        "# Equação 10\n",
        "Eq_10 = ~A & ~H & L & M\n",
        "Eq_10"
      ],
      "metadata": {
        "id": "zYR20Ztshb2u"
      },
      "execution_count": null,
      "outputs": []
    },
    {
      "cell_type": "markdown",
      "source": [
        "## Exercício 3"
      ],
      "metadata": {
        "id": "Mpt2tpdKA-3S"
      }
    },
    {
      "cell_type": "markdown",
      "source": [
        "**15% da nota total da atividade.**\n",
        "\n",
        "Das equações lógicas fornecidas, modifique as equações gerando sua tautologia, contradição ou contigência, definido pelo enunciado."
      ],
      "metadata": {
        "id": "J7gXGMcbBAb6"
      }
    },
    {
      "cell_type": "code",
      "source": [
        "# Enunciado do exercício\n",
        "import random\n",
        "random.seed(matricula)\n",
        "indices = list(range(0,len(argumentos['hipoteses'])))\n",
        "random.shuffle(indices)\n",
        "modificar = ['tautologia','tautologia','tautologia','contradição','contigência']\n",
        "print('Equações lógicas:')\n",
        "for i in range(0,min([len(argumentos['hipoteses']),10])):\n",
        "  random.shuffle(modificar)\n",
        "  print('   ',\n",
        "        f'MD_{i+1:0>2}',f'({modificar[0]}):',\n",
        "        argumentos['hipoteses'][indices[i]])"
      ],
      "metadata": {
        "id": "KaaU2FUaBe-T",
        "colab": {
          "base_uri": "https://localhost:8080/"
        },
        "outputId": "0680b357-7413-4e7c-fa20-cb46c52fb719"
      },
      "execution_count": 98,
      "outputs": [
        {
          "output_type": "stream",
          "name": "stdout",
          "text": [
            "Equações lógicas:\n",
            "    MD_01 (tautologia): A & ~B & F & ~G\n",
            "    MD_02 (tautologia): ~A & ~H & ~L & ~N\n",
            "    MD_03 (tautologia): ~A & ~H & ~L & N\n",
            "    MD_04 (contigência): ~A & H & I & J\n",
            "    MD_05 (tautologia): A & ~B & F & G\n",
            "    MD_06 (tautologia): A & ~B & ~F\n",
            "    MD_07 (tautologia): ~A & H & ~I & K\n",
            "    MD_08 (contradição): A & B & C & ~D\n",
            "    MD_09 (tautologia): ~A & H & I & ~J\n",
            "    MD_10 (tautologia): ~A & ~H & L & M\n"
          ]
        }
      ]
    },
    {
      "cell_type": "markdown",
      "source": [
        "Solução:"
      ],
      "metadata": {
        "id": "RHKzPGHTUHaY"
      }
    },
    {
      "cell_type": "code",
      "source": [
        "MD_01 = ~A & ~(~I | ~J) & K\n",
        "\n",
        "MD_01 == (~A & I & J & K)"
      ],
      "metadata": {
        "id": "7Cj_LXHfUJUH",
        "outputId": "cc6406f4-dd32-4c1f-a80d-6287f682ca0d",
        "colab": {
          "base_uri": "https://localhost:8080/"
        }
      },
      "execution_count": 99,
      "outputs": [
        {
          "output_type": "execute_result",
          "data": {
            "text/plain": [
              "0      True\n",
              "1      True\n",
              "2      True\n",
              "3      True\n",
              "4      True\n",
              "       ... \n",
              "995    True\n",
              "996    True\n",
              "997    True\n",
              "998    True\n",
              "999    True\n",
              "Length: 1000, dtype: bool"
            ]
          },
          "metadata": {},
          "execution_count": 99
        }
      ]
    },
    {
      "cell_type": "markdown",
      "source": [
        "## Exercício 4"
      ],
      "metadata": {
        "id": "OvL9vJH06xsX"
      }
    },
    {
      "cell_type": "markdown",
      "source": [
        "**20% da nota total da atividade.**\n",
        "\n",
        "Extraia o numero de linhas da fonte de dados pelos argumento válidos abaixo:"
      ],
      "metadata": {
        "id": "23pZNd937UxW"
      }
    },
    {
      "cell_type": "code",
      "source": [
        "# Enunciado do exercício\n",
        "import random\n",
        "random.seed(matricula)\n",
        "indices = list(range(0,len(argumentos['hipoteses'])))\n",
        "random.shuffle(indices)\n",
        "random.shuffle(indices)\n",
        "print('Argumentos Válidos:')\n",
        "for i in range(0,min([len(argumentos['hipoteses']),10])):\n",
        "  print('   ',\n",
        "        f'AV_{i+1:0>2}:   (',argumentos['hipoteses'][indices[i]],') ∴',\n",
        "        argumentos['conclusoes'][indices[i]])"
      ],
      "metadata": {
        "id": "aLoUJ0DG7pwS",
        "colab": {
          "base_uri": "https://localhost:8080/"
        },
        "outputId": "9b97a1fe-834c-46cc-f793-a032a371ece3"
      },
      "execution_count": null,
      "outputs": [
        {
          "output_type": "stream",
          "name": "stdout",
          "text": [
            "Argumentos Válidos:\n",
            "    AV_01:   ( A & ~B & ~F & H ) ∴ Classe ⇔ 1\n",
            "    AV_02:   ( ~A & I & ~J & L ) ∴ Classe ⇔ 1\n",
            "    AV_03:   ( A & ~B & F & ~G ) ∴ Classe ⇔ 1\n",
            "    AV_04:   ( A & B & C & D ) ∴ Classe ⇔ 0\n",
            "    AV_05:   ( A & B & ~C & ~E ) ∴ Classe ⇔ 1\n",
            "    AV_06:   ( ~A & ~I & M & N ) ∴ Classe ⇔ 2\n",
            "    AV_07:   ( ~A & I & ~J & ~L ) ∴ Classe ⇔ 2\n",
            "    AV_08:   ( ~A & ~I & ~M & O ) ∴ Classe ⇔ 0\n",
            "    AV_09:   ( ~A & I & J & ~K ) ∴ Classe ⇔ 0\n",
            "    AV_10:   ( A & B & ~C & E ) ∴ Classe ⇔ 2\n"
          ]
        }
      ]
    },
    {
      "cell_type": "markdown",
      "source": [
        "Solução:"
      ],
      "metadata": {
        "id": "TwpfPQHa77KR"
      }
    },
    {
      "cell_type": "code",
      "source": [
        "# não esquecer de usar a implicação em '∴'\n",
        "AV_01 = fonte[ ~(A & ~B ) | (fonte['classe'] == 1)]\n",
        "len(AV_01)"
      ],
      "metadata": {
        "id": "IsJ04Bw3781L",
        "colab": {
          "base_uri": "https://localhost:8080/",
          "height": 572
        },
        "outputId": "53e1f26d-df05-4cfe-f23a-3ed723ce5e3d"
      },
      "execution_count": null,
      "outputs": [
        {
          "output_type": "error",
          "ename": "KeyError",
          "evalue": "ignored",
          "traceback": [
            "\u001b[0;31m---------------------------------------------------------------------------\u001b[0m",
            "\u001b[0;31mKeyError\u001b[0m                                  Traceback (most recent call last)",
            "\u001b[0;32m/usr/local/lib/python3.7/dist-packages/pandas/core/indexes/base.py\u001b[0m in \u001b[0;36mget_loc\u001b[0;34m(self, key, method, tolerance)\u001b[0m\n\u001b[1;32m   3360\u001b[0m             \u001b[0;32mtry\u001b[0m\u001b[0;34m:\u001b[0m\u001b[0;34m\u001b[0m\u001b[0;34m\u001b[0m\u001b[0m\n\u001b[0;32m-> 3361\u001b[0;31m                 \u001b[0;32mreturn\u001b[0m \u001b[0mself\u001b[0m\u001b[0;34m.\u001b[0m\u001b[0m_engine\u001b[0m\u001b[0;34m.\u001b[0m\u001b[0mget_loc\u001b[0m\u001b[0;34m(\u001b[0m\u001b[0mcasted_key\u001b[0m\u001b[0;34m)\u001b[0m\u001b[0;34m\u001b[0m\u001b[0;34m\u001b[0m\u001b[0m\n\u001b[0m\u001b[1;32m   3362\u001b[0m             \u001b[0;32mexcept\u001b[0m \u001b[0mKeyError\u001b[0m \u001b[0;32mas\u001b[0m \u001b[0merr\u001b[0m\u001b[0;34m:\u001b[0m\u001b[0;34m\u001b[0m\u001b[0;34m\u001b[0m\u001b[0m\n",
            "\u001b[0;32m/usr/local/lib/python3.7/dist-packages/pandas/_libs/index.pyx\u001b[0m in \u001b[0;36mpandas._libs.index.IndexEngine.get_loc\u001b[0;34m()\u001b[0m\n",
            "\u001b[0;32m/usr/local/lib/python3.7/dist-packages/pandas/_libs/index.pyx\u001b[0m in \u001b[0;36mpandas._libs.index.IndexEngine.get_loc\u001b[0;34m()\u001b[0m\n",
            "\u001b[0;32mpandas/_libs/hashtable_class_helper.pxi\u001b[0m in \u001b[0;36mpandas._libs.hashtable.PyObjectHashTable.get_item\u001b[0;34m()\u001b[0m\n",
            "\u001b[0;32mpandas/_libs/hashtable_class_helper.pxi\u001b[0m in \u001b[0;36mpandas._libs.hashtable.PyObjectHashTable.get_item\u001b[0;34m()\u001b[0m\n",
            "\u001b[0;31mKeyError\u001b[0m: 'classe'",
            "\nThe above exception was the direct cause of the following exception:\n",
            "\u001b[0;31mKeyError\u001b[0m                                  Traceback (most recent call last)",
            "\u001b[0;32m<ipython-input-11-46e897f28ace>\u001b[0m in \u001b[0;36m<module>\u001b[0;34m()\u001b[0m\n\u001b[1;32m      1\u001b[0m \u001b[0;31m# não esquecer de usar a implicação em '∴'\u001b[0m\u001b[0;34m\u001b[0m\u001b[0;34m\u001b[0m\u001b[0;34m\u001b[0m\u001b[0m\n\u001b[0;32m----> 2\u001b[0;31m \u001b[0mAV_01\u001b[0m \u001b[0;34m=\u001b[0m \u001b[0mfonte\u001b[0m\u001b[0;34m[\u001b[0m \u001b[0;34m~\u001b[0m\u001b[0;34m(\u001b[0m\u001b[0mA\u001b[0m \u001b[0;34m&\u001b[0m \u001b[0;34m~\u001b[0m\u001b[0mB\u001b[0m \u001b[0;34m)\u001b[0m \u001b[0;34m|\u001b[0m \u001b[0;34m(\u001b[0m\u001b[0mfonte\u001b[0m\u001b[0;34m[\u001b[0m\u001b[0;34m'classe'\u001b[0m\u001b[0;34m]\u001b[0m \u001b[0;34m==\u001b[0m \u001b[0;36m1\u001b[0m\u001b[0;34m)\u001b[0m\u001b[0;34m]\u001b[0m\u001b[0;34m\u001b[0m\u001b[0;34m\u001b[0m\u001b[0m\n\u001b[0m\u001b[1;32m      3\u001b[0m \u001b[0mlen\u001b[0m\u001b[0;34m(\u001b[0m\u001b[0mAV_01\u001b[0m\u001b[0;34m)\u001b[0m\u001b[0;34m\u001b[0m\u001b[0;34m\u001b[0m\u001b[0m\n",
            "\u001b[0;32m/usr/local/lib/python3.7/dist-packages/pandas/core/frame.py\u001b[0m in \u001b[0;36m__getitem__\u001b[0;34m(self, key)\u001b[0m\n\u001b[1;32m   3456\u001b[0m             \u001b[0;32mif\u001b[0m \u001b[0mself\u001b[0m\u001b[0;34m.\u001b[0m\u001b[0mcolumns\u001b[0m\u001b[0;34m.\u001b[0m\u001b[0mnlevels\u001b[0m \u001b[0;34m>\u001b[0m \u001b[0;36m1\u001b[0m\u001b[0;34m:\u001b[0m\u001b[0;34m\u001b[0m\u001b[0;34m\u001b[0m\u001b[0m\n\u001b[1;32m   3457\u001b[0m                 \u001b[0;32mreturn\u001b[0m \u001b[0mself\u001b[0m\u001b[0;34m.\u001b[0m\u001b[0m_getitem_multilevel\u001b[0m\u001b[0;34m(\u001b[0m\u001b[0mkey\u001b[0m\u001b[0;34m)\u001b[0m\u001b[0;34m\u001b[0m\u001b[0;34m\u001b[0m\u001b[0m\n\u001b[0;32m-> 3458\u001b[0;31m             \u001b[0mindexer\u001b[0m \u001b[0;34m=\u001b[0m \u001b[0mself\u001b[0m\u001b[0;34m.\u001b[0m\u001b[0mcolumns\u001b[0m\u001b[0;34m.\u001b[0m\u001b[0mget_loc\u001b[0m\u001b[0;34m(\u001b[0m\u001b[0mkey\u001b[0m\u001b[0;34m)\u001b[0m\u001b[0;34m\u001b[0m\u001b[0;34m\u001b[0m\u001b[0m\n\u001b[0m\u001b[1;32m   3459\u001b[0m             \u001b[0;32mif\u001b[0m \u001b[0mis_integer\u001b[0m\u001b[0;34m(\u001b[0m\u001b[0mindexer\u001b[0m\u001b[0;34m)\u001b[0m\u001b[0;34m:\u001b[0m\u001b[0;34m\u001b[0m\u001b[0;34m\u001b[0m\u001b[0m\n\u001b[1;32m   3460\u001b[0m                 \u001b[0mindexer\u001b[0m \u001b[0;34m=\u001b[0m \u001b[0;34m[\u001b[0m\u001b[0mindexer\u001b[0m\u001b[0;34m]\u001b[0m\u001b[0;34m\u001b[0m\u001b[0;34m\u001b[0m\u001b[0m\n",
            "\u001b[0;32m/usr/local/lib/python3.7/dist-packages/pandas/core/indexes/base.py\u001b[0m in \u001b[0;36mget_loc\u001b[0;34m(self, key, method, tolerance)\u001b[0m\n\u001b[1;32m   3361\u001b[0m                 \u001b[0;32mreturn\u001b[0m \u001b[0mself\u001b[0m\u001b[0;34m.\u001b[0m\u001b[0m_engine\u001b[0m\u001b[0;34m.\u001b[0m\u001b[0mget_loc\u001b[0m\u001b[0;34m(\u001b[0m\u001b[0mcasted_key\u001b[0m\u001b[0;34m)\u001b[0m\u001b[0;34m\u001b[0m\u001b[0;34m\u001b[0m\u001b[0m\n\u001b[1;32m   3362\u001b[0m             \u001b[0;32mexcept\u001b[0m \u001b[0mKeyError\u001b[0m \u001b[0;32mas\u001b[0m \u001b[0merr\u001b[0m\u001b[0;34m:\u001b[0m\u001b[0;34m\u001b[0m\u001b[0;34m\u001b[0m\u001b[0m\n\u001b[0;32m-> 3363\u001b[0;31m                 \u001b[0;32mraise\u001b[0m \u001b[0mKeyError\u001b[0m\u001b[0;34m(\u001b[0m\u001b[0mkey\u001b[0m\u001b[0;34m)\u001b[0m \u001b[0;32mfrom\u001b[0m \u001b[0merr\u001b[0m\u001b[0;34m\u001b[0m\u001b[0;34m\u001b[0m\u001b[0m\n\u001b[0m\u001b[1;32m   3364\u001b[0m \u001b[0;34m\u001b[0m\u001b[0m\n\u001b[1;32m   3365\u001b[0m         \u001b[0;32mif\u001b[0m \u001b[0mis_scalar\u001b[0m\u001b[0;34m(\u001b[0m\u001b[0mkey\u001b[0m\u001b[0;34m)\u001b[0m \u001b[0;32mand\u001b[0m \u001b[0misna\u001b[0m\u001b[0;34m(\u001b[0m\u001b[0mkey\u001b[0m\u001b[0;34m)\u001b[0m \u001b[0;32mand\u001b[0m \u001b[0;32mnot\u001b[0m \u001b[0mself\u001b[0m\u001b[0;34m.\u001b[0m\u001b[0mhasnans\u001b[0m\u001b[0;34m:\u001b[0m\u001b[0;34m\u001b[0m\u001b[0;34m\u001b[0m\u001b[0m\n",
            "\u001b[0;31mKeyError\u001b[0m: 'classe'"
          ]
        }
      ]
    },
    {
      "cell_type": "code",
      "source": [
        "# não esquecer de usar a implicação em '∴'\n",
        "AV_02 = fonte[ ~(A & ~B ) | (fonte['classe'] == 1)]\n",
        "len(AV_02)"
      ],
      "metadata": {
        "id": "QixIHg-d_hk9"
      },
      "execution_count": null,
      "outputs": []
    },
    {
      "cell_type": "code",
      "source": [
        "# ..."
      ],
      "metadata": {
        "id": "zrJXg_ZV_hdR"
      },
      "execution_count": null,
      "outputs": []
    },
    {
      "cell_type": "markdown",
      "source": [
        "## Exercício 5"
      ],
      "metadata": {
        "id": "7jFr99fy8uJ_"
      }
    },
    {
      "cell_type": "markdown",
      "source": [
        "**20% da nota total da atividade.**\n",
        "\n",
        "Monte os predicados das equações lógicas abaixo:"
      ],
      "metadata": {
        "id": "II1kKY328wOB"
      }
    },
    {
      "cell_type": "code",
      "source": [
        "# Enunciado do exercício\n",
        "import random\n",
        "random.seed(matricula)\n",
        "indices = list(range(0,len(argumentos['hipoteses'])))\n",
        "random.shuffle(indices)\n",
        "random.shuffle(indices)\n",
        "random.shuffle(indices)\n",
        "print('Equações dos Predicados:')\n",
        "for i in range(0,min([len(argumentos['hipoteses']),10])):\n",
        "  print('   ',f'P{i+1:0>2}(x):   ',argumentos['hipoteses'][indices[i]],'&',\n",
        "        argumentos['conclusoes'][indices[i]].replace('0','x').replace('1','x').replace('2','x'))"
      ],
      "metadata": {
        "id": "STIdlRrM82JT",
        "colab": {
          "base_uri": "https://localhost:8080/"
        },
        "outputId": "dbc239b3-d8c3-4888-e477-440568f2b4c8"
      },
      "execution_count": null,
      "outputs": [
        {
          "output_type": "stream",
          "name": "stdout",
          "text": [
            "Equações dos Predicados:\n",
            "    P01(x):    ~A & I & ~J & ~L & Classe ⇔ x\n",
            "    P02(x):    ~A & ~I & M & ~N & Classe ⇔ x\n",
            "    P03(x):    ~A & ~I & M & N & Classe ⇔ x\n",
            "    P04(x):    A & ~B & F & G & Classe ⇔ x\n",
            "    P05(x):    A & B & ~C & ~E & Classe ⇔ x\n",
            "    P06(x):    ~A & I & J & K & Classe ⇔ x\n",
            "    P07(x):    ~A & ~I & ~M & ~O & Classe ⇔ x\n",
            "    P08(x):    A & ~B & ~F & ~H & Classe ⇔ x\n",
            "    P09(x):    ~A & I & J & ~K & Classe ⇔ x\n",
            "    P10(x):    A & ~B & F & ~G & Classe ⇔ x\n"
          ]
        }
      ]
    },
    {
      "cell_type": "markdown",
      "source": [
        "Solução:"
      ],
      "metadata": {
        "id": "L9XPnUFF83R0"
      }
    },
    {
      "cell_type": "code",
      "source": [
        "def P01(x):\n",
        "  return A & ~B & fonte['Classe'] == x\n",
        "P01(0)"
      ],
      "metadata": {
        "id": "25UXyYWg85Ze"
      },
      "execution_count": null,
      "outputs": []
    },
    {
      "cell_type": "code",
      "source": [
        "def P02(x):\n",
        "  return A & ~B & fonte['Classe'] == x\n",
        "P02(0)"
      ],
      "metadata": {
        "id": "68iO1pW7ArTc"
      },
      "execution_count": null,
      "outputs": []
    },
    {
      "cell_type": "code",
      "source": [
        "# ..."
      ],
      "metadata": {
        "id": "0TslF18xAv4B"
      },
      "execution_count": null,
      "outputs": []
    },
    {
      "cell_type": "markdown",
      "source": [
        "## Exercício 6"
      ],
      "metadata": {
        "id": "eHXmnusYBJdd"
      }
    },
    {
      "cell_type": "markdown",
      "source": [
        "**20% da nota total da atividade.**\n",
        "\n",
        "Verifique se o resultado lógico dos quantificadores abaixo:"
      ],
      "metadata": {
        "id": "Su8JGvqfBLXo"
      }
    },
    {
      "cell_type": "code",
      "source": [
        "import random\n",
        "random.seed(matricula)\n",
        "quanti = ['∀','∃']\n",
        "classes = [0,1,2]\n",
        "print('Quantificadores:')\n",
        "for i in range(0,min([len(argumentos['hipoteses']),10])):\n",
        "  random.shuffle(quanti)\n",
        "  random.shuffle(classes)\n",
        "  print('   ',f'Q_{i+1:0>2}: {quanti[1]}x P{i+1:0>2}({classes[0]}) no domínio de',argumentos['linhas'][i],'linhas.')"
      ],
      "metadata": {
        "id": "SUsPQjT1BVar",
        "colab": {
          "base_uri": "https://localhost:8080/"
        },
        "outputId": "ea75f7a6-fe8c-4499-8f56-1ded2caa3486"
      },
      "execution_count": null,
      "outputs": [
        {
          "output_type": "stream",
          "name": "stdout",
          "text": [
            "Quantificadores:\n",
            "    Q_01: ∃x P01(1) no domínio de 301 linhas.\n",
            "    Q_02: ∀x P02(2) no domínio de 200 linhas.\n",
            "    Q_03: ∃x P03(0) no domínio de 198 linhas.\n",
            "    Q_04: ∀x P04(0) no domínio de 184 linhas.\n",
            "    Q_05: ∀x P05(2) no domínio de 52 linhas.\n",
            "    Q_06: ∃x P06(2) no domínio de 16 linhas.\n",
            "    Q_07: ∀x P07(2) no domínio de 11 linhas.\n",
            "    Q_08: ∃x P08(2) no domínio de 8 linhas.\n",
            "    Q_09: ∃x P09(1) no domínio de 7 linhas.\n",
            "    Q_10: ∀x P10(0) no domínio de 6 linhas.\n"
          ]
        }
      ]
    },
    {
      "cell_type": "code",
      "source": [
        "argumentos['linhas']"
      ],
      "metadata": {
        "colab": {
          "base_uri": "https://localhost:8080/"
        },
        "id": "AtcZHZ4o59bv",
        "outputId": "77e57e74-47d8-4845-a00b-c8c5834d808a"
      },
      "execution_count": null,
      "outputs": [
        {
          "output_type": "execute_result",
          "data": {
            "text/plain": [
              "[301, 200, 198, 184, 52, 16, 11, 8, 7, 6, 5, 4, 4, 2, 1, 1]"
            ]
          },
          "metadata": {},
          "execution_count": 15
        }
      ]
    },
    {
      "cell_type": "markdown",
      "source": [
        "Solução"
      ],
      "metadata": {
        "id": "gFeRRkVzDuC-"
      }
    },
    {
      "cell_type": "code",
      "source": [
        "fonte.shape"
      ],
      "metadata": {
        "id": "n5mFO_hF6Nyf",
        "outputId": "9ae0c80c-6521-4b55-a5b5-d3bb0c9b5c27",
        "colab": {
          "base_uri": "https://localhost:8080/"
        }
      },
      "execution_count": null,
      "outputs": [
        {
          "output_type": "execute_result",
          "data": {
            "text/plain": [
              "(1000, 6)"
            ]
          },
          "metadata": {},
          "execution_count": 16
        }
      ]
    },
    {
      "cell_type": "code",
      "source": [
        "q_01 = (len(fonte(P01(0))) > 293)\n",
        "q_01"
      ],
      "metadata": {
        "id": "LSCVK4nsDvZs"
      },
      "execution_count": null,
      "outputs": []
    },
    {
      "cell_type": "code",
      "source": [
        "q_02 = (len(fonte(P02(0))) == 221)\n",
        "q_02"
      ],
      "metadata": {
        "id": "0ajUdhZAEBch"
      },
      "execution_count": null,
      "outputs": []
    },
    {
      "cell_type": "code",
      "source": [
        "..."
      ],
      "metadata": {
        "id": "hUpT_GDPEJsR"
      },
      "execution_count": null,
      "outputs": []
    },
    {
      "cell_type": "markdown",
      "source": [
        "# Postando as soluções"
      ],
      "metadata": {
        "id": "ilzuK_HUWqRJ"
      }
    },
    {
      "cell_type": "markdown",
      "source": [
        "No menu Arquivo >> Fazer Download >> Fazer Download do .ipynb\n",
        "\n",
        "Enviar o arquivo na própria atividade do Google Sala da Aula."
      ],
      "metadata": {
        "id": "Iui2pLXFWtPS"
      }
    }
  ]
}