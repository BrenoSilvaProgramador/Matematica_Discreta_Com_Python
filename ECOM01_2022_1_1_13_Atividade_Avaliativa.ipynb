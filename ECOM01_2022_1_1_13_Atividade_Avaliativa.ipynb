{
  "nbformat": 4,
  "nbformat_minor": 0,
  "metadata": {
    "colab": {
      "name": "ECOM01 - 2022.1 - 1.13 - Atividade Avaliativa.ipynb",
      "provenance": [],
      "collapsed_sections": [],
      "include_colab_link": true
    },
    "kernelspec": {
      "name": "python3",
      "display_name": "Python 3"
    },
    "language_info": {
      "name": "python"
    }
  },
  "cells": [
    {
      "cell_type": "markdown",
      "metadata": {
        "id": "view-in-github",
        "colab_type": "text"
      },
      "source": [
        "<a href=\"https://colab.research.google.com/github/BrenoSilvaProgramador/Pyhton_Aprendizado/blob/main/ECOM01_2022_1_1_13_Atividade_Avaliativa.ipynb\" target=\"_parent\"><img src=\"https://colab.research.google.com/assets/colab-badge.svg\" alt=\"Open In Colab\"/></a>"
      ]
    },
    {
      "cell_type": "markdown",
      "source": [
        "# Objetivos"
      ],
      "metadata": {
        "id": "tlHO2d7tel9G"
      }
    },
    {
      "cell_type": "markdown",
      "source": [
        "Esta atividade visa verificar o conhecimento em lógica proposicional apresentada na disciplina. "
      ],
      "metadata": {
        "id": "Lwd5JeVI32nU"
      }
    },
    {
      "cell_type": "markdown",
      "source": [
        "# Fonte de Dados"
      ],
      "metadata": {
        "id": "TB176U46jSHB"
      }
    },
    {
      "cell_type": "markdown",
      "source": [
        "Forneça seu número de matrícula para gerar uma nova fonte de dados.\n",
        "\n",
        "**Atenção:** se não fornecida a matrícula corretamente a atividade será anulada."
      ],
      "metadata": {
        "id": "B7c5-15mjvFo"
      }
    },
    {
      "cell_type": "code",
      "execution_count": null,
      "metadata": {
        "id": "FqdfHPnXedgU"
      },
      "outputs": [],
      "source": [
        "matricula = 2021008603 #@param {type:\"number\"}\n",
        "\n",
        "# gerando fonte de dados\n",
        "from sklearn.datasets import make_blobs\n",
        "num_colunas=5\n",
        "num_linhas=1000\n",
        "X, y = make_blobs(n_samples=num_linhas, n_features=num_colunas, \n",
        "                  cluster_std=4.0, random_state=matricula)\n",
        "\n",
        "# visualizado fonte de dados\n",
        "import pandas as pd\n",
        "nome_colunas = [f'Atr{i+1}' for i in range(0,num_colunas)]\n",
        "fonte = pd.DataFrame(data=X,columns=nome_colunas)\n",
        "fonte['Classe'] = y\n",
        "fonte.head(1000)"
      ]
    },
    {
      "cell_type": "markdown",
      "source": [
        "## Gerador de Equações Booleanas"
      ],
      "metadata": {
        "id": "9ukZMDmXmLik"
      }
    },
    {
      "cell_type": "markdown",
      "source": [
        "Execute este bloco para gerar as atividades deste notebook."
      ],
      "metadata": {
        "id": "S3Jp5l3m3bSo"
      }
    },
    {
      "cell_type": "code",
      "source": [
        "import gdown\n",
        "gdown.download('https://drive.google.com/uc?id=1N33RVvbMAqAM6TjYlMVx8UWCsX1YcYCe','ExtratorArgumentos.py')\n",
        "from ExtratorArgumentos import equacoes_booleanas\n",
        "argumentos = equacoes_booleanas(X,y,nome_colunas)"
      ],
      "metadata": {
        "id": "5DvWUOYy2nVH"
      },
      "execution_count": null,
      "outputs": []
    },
    {
      "cell_type": "markdown",
      "source": [
        "# Exercícios"
      ],
      "metadata": {
        "id": "Xdu7za363gZz"
      }
    },
    {
      "cell_type": "markdown",
      "source": [
        "## Exercício 1"
      ],
      "metadata": {
        "id": "sjc8IYUE4V2Q"
      }
    },
    {
      "cell_type": "markdown",
      "source": [
        "**10% da nota total da atividade.**\n",
        "\n",
        "Gere as fórmulas atômicas abaixo:"
      ],
      "metadata": {
        "id": "_SlbBf_3-KbA"
      }
    },
    {
      "cell_type": "code",
      "source": [
        "# Enunciado (EXECUTE!)\n",
        "print('Fórmulas atômicas:')\n",
        "for formula in argumentos['formulas']:\n",
        "  print('   ',formula)"
      ],
      "metadata": {
        "id": "reA1-Go6-Vd0"
      },
      "execution_count": null,
      "outputs": []
    },
    {
      "cell_type": "markdown",
      "source": [
        "Fórmulas atômicas:"
      ],
      "metadata": {
        "id": "AK42X4EA-WGh"
      }
    },
    {
      "cell_type": "code",
      "source": [
        "# Formula atomica A\n",
        "A = (fonte['Atr2'] <= -0.7936)\n",
        "A.head"
      ],
      "metadata": {
        "id": "AlEnVlXl-YM3"
      },
      "execution_count": null,
      "outputs": []
    },
    {
      "cell_type": "code",
      "source": [
        "# Formula atomica B\n",
        "B = (fonte['Atr5'] <= 9.3846)\n",
        "B.head"
      ],
      "metadata": {
        "id": "gFs2Gj-AcQgB"
      },
      "execution_count": null,
      "outputs": []
    },
    {
      "cell_type": "code",
      "source": [
        "# Formula atomica C\n",
        "C = (fonte['Atr1'] <= - 1.76)\n",
        "C.head"
      ],
      "metadata": {
        "id": "Q65AGvj0cyRh"
      },
      "execution_count": null,
      "outputs": []
    },
    {
      "cell_type": "code",
      "source": [
        "# Fórmula atomica D\n",
        "D = (fonte['Atr3'] <= -2.1248)\n",
        "D.head"
      ],
      "metadata": {
        "id": "Og4aSkjpdNhC"
      },
      "execution_count": null,
      "outputs": []
    },
    {
      "cell_type": "code",
      "source": [
        "# Fórmula atomica E\n",
        "E = (fonte['Atr3'] <= 5.7414)\n",
        "E.head"
      ],
      "metadata": {
        "id": "LllnNPFjdezx"
      },
      "execution_count": null,
      "outputs": []
    },
    {
      "cell_type": "code",
      "source": [
        "# Formula atomica F\n",
        "F = (fonte['Atr2'] <= -5.3299)\n",
        "F.head"
      ],
      "metadata": {
        "id": "3MGoWCqJdr6K"
      },
      "execution_count": null,
      "outputs": []
    },
    {
      "cell_type": "code",
      "source": [
        "# Formula atomica G\n",
        "G = (fonte['Atr3'] <= 0.5432)\n",
        "G.head"
      ],
      "metadata": {
        "id": "eZ8ryP_AeCKq"
      },
      "execution_count": null,
      "outputs": []
    },
    {
      "cell_type": "code",
      "source": [
        "# Formula atomica H\n",
        "H = (fonte['Atr3'] <= -2.8985)\n",
        "H.head "
      ],
      "metadata": {
        "id": "oWhIoG2YeeLM"
      },
      "execution_count": null,
      "outputs": []
    },
    {
      "cell_type": "code",
      "source": [
        "# Formula atomica I\n",
        "I = (fonte['Atr1'] <= 5.8757)\n",
        "I.head"
      ],
      "metadata": {
        "id": "qeyngITUetZR"
      },
      "execution_count": null,
      "outputs": []
    },
    {
      "cell_type": "code",
      "source": [
        "# Formula atomica J\n",
        "J = (fonte['Atr5'] <= 6.2839)\n",
        "J.head"
      ],
      "metadata": {
        "id": "gZ8Sk0Z6fRbx"
      },
      "execution_count": null,
      "outputs": []
    },
    {
      "cell_type": "code",
      "source": [
        "# Formula atomica K\n",
        "K = (fonte['Atr2'] <= 5.079)\n",
        "K.head"
      ],
      "metadata": {
        "id": "CKlR3SxIff03"
      },
      "execution_count": null,
      "outputs": []
    },
    {
      "cell_type": "code",
      "source": [
        "# Formula atomica L \n",
        "L = (fonte['Atr1'] <= -4.2925)\n",
        "L.head"
      ],
      "metadata": {
        "id": "vmybSH1Jfr0C"
      },
      "execution_count": null,
      "outputs": []
    },
    {
      "cell_type": "code",
      "source": [
        "# Fórmula atomica M\n",
        "M = (fonte['Atr2'] <= 3.3392)\n",
        "M.head"
      ],
      "metadata": {
        "id": "UO5IcQCtf9u5"
      },
      "execution_count": null,
      "outputs": []
    },
    {
      "cell_type": "code",
      "source": [
        "# Fórmula atomica N\n",
        "N = (fonte['Atr5'] <= -4.548)\n",
        "N.head"
      ],
      "metadata": {
        "id": "Yi_oc_MEgTEg"
      },
      "execution_count": null,
      "outputs": []
    },
    {
      "cell_type": "markdown",
      "source": [
        "## Exercício 2"
      ],
      "metadata": {
        "id": "l9CjixWP-IkW"
      }
    },
    {
      "cell_type": "markdown",
      "source": [
        "**15% da nota total da atividade.**\n",
        "\n",
        "Obtenha a tabela verdade das seguintes equações lógicas:"
      ],
      "metadata": {
        "id": "-N8_l3YT5xOW"
      }
    },
    {
      "cell_type": "code",
      "source": [
        "# Enunciado do exercício\n",
        "import random\n",
        "random.seed(matricula)\n",
        "indices = list(range(0,len(argumentos['hipoteses'])))\n",
        "random.shuffle(indices)\n",
        "print('Equações lógicas:')\n",
        "for i in range(0,min([len(argumentos['hipoteses']),10])):\n",
        "  print('   ',f'Eq_{i+1:0>2}:',argumentos['hipoteses'][indices[i]])"
      ],
      "metadata": {
        "id": "RdtL_zeN4gTj"
      },
      "execution_count": null,
      "outputs": []
    },
    {
      "cell_type": "markdown",
      "source": [
        "Solução:"
      ],
      "metadata": {
        "id": "swDZkKkW6ZlA"
      }
    },
    {
      "cell_type": "code",
      "source": [
        "# Equação 01\n",
        "Eq_01 = A & ~B & F & ~G\n",
        "Eq_01"
      ],
      "metadata": {
        "id": "0VxWKKib-C5q"
      },
      "execution_count": null,
      "outputs": []
    },
    {
      "cell_type": "code",
      "source": [
        "# Equação 02\n",
        "Eq_02 = ~A & ~H & ~L & ~N\n",
        "Eq_02"
      ],
      "metadata": {
        "id": "RCsWxEy4BOEa"
      },
      "execution_count": null,
      "outputs": []
    },
    {
      "cell_type": "code",
      "source": [
        "# Equação 03\n",
        "Eq_03 = ~A & ~H & ~L & N\n",
        "Eq_03"
      ],
      "metadata": {
        "id": "-epUsxMx9Sf1"
      },
      "execution_count": null,
      "outputs": []
    },
    {
      "cell_type": "code",
      "source": [
        "# Equação 04\n",
        "Eq_04 = ~A & H & I & J\n",
        "Eq_04"
      ],
      "metadata": {
        "id": "hHwxC6IYha0R"
      },
      "execution_count": null,
      "outputs": []
    },
    {
      "cell_type": "code",
      "source": [
        "# Equação 05\n",
        "Eq_05 = A & ~B & F & G\n",
        "Eq_05"
      ],
      "metadata": {
        "id": "fWh2aNSyhbDg"
      },
      "execution_count": null,
      "outputs": []
    },
    {
      "cell_type": "code",
      "source": [
        "# Equação 06\n",
        "Eq_06 = A & ~B & ~F\n",
        "Eq_06"
      ],
      "metadata": {
        "id": "X3OdUqVQhbM2"
      },
      "execution_count": null,
      "outputs": []
    },
    {
      "cell_type": "code",
      "source": [
        "# Equação 07\n",
        "Eq_07 = ~A & H & ~I & K\n",
        "Eq_07"
      ],
      "metadata": {
        "id": "wYeCCFlmhbUn"
      },
      "execution_count": null,
      "outputs": []
    },
    {
      "cell_type": "code",
      "source": [
        "# Equação 08\n",
        "Eq_08 = A & B & C & ~D\n",
        "Eq_08"
      ],
      "metadata": {
        "id": "hADeTp-mhbdQ"
      },
      "execution_count": null,
      "outputs": []
    },
    {
      "cell_type": "code",
      "source": [
        "# Equação 09\n",
        "Eq_09 = ~A & H & I & ~J\n",
        "Eq_09"
      ],
      "metadata": {
        "id": "VfK77QA8hbnP"
      },
      "execution_count": null,
      "outputs": []
    },
    {
      "cell_type": "code",
      "source": [
        "# Equação 10\n",
        "Eq_10 = ~A & ~H & L & M\n",
        "Eq_10"
      ],
      "metadata": {
        "id": "zYR20Ztshb2u"
      },
      "execution_count": null,
      "outputs": []
    },
    {
      "cell_type": "markdown",
      "source": [
        "## Exercício 3"
      ],
      "metadata": {
        "id": "Mpt2tpdKA-3S"
      }
    },
    {
      "cell_type": "markdown",
      "source": [
        "**15% da nota total da atividade.**\n",
        "\n",
        "Das equações lógicas fornecidas, modifique as equações gerando sua tautologia, contradição ou contigência, definido pelo enunciado."
      ],
      "metadata": {
        "id": "J7gXGMcbBAb6"
      }
    },
    {
      "cell_type": "code",
      "source": [
        "# Enunciado do exercício\n",
        "import random\n",
        "random.seed(matricula)\n",
        "indices = list(range(0,len(argumentos['hipoteses'])))\n",
        "random.shuffle(indices)\n",
        "modificar = ['tautologia','tautologia','tautologia','contradição','contigência']\n",
        "print('Equações lógicas:')\n",
        "for i in range(0,min([len(argumentos['hipoteses']),10])):\n",
        "  random.shuffle(modificar)\n",
        "  print('   ',\n",
        "        f'MD_{i+1:0>2}',f'({modificar[0]}):',\n",
        "        argumentos['hipoteses'][indices[i]])"
      ],
      "metadata": {
        "id": "KaaU2FUaBe-T"
      },
      "execution_count": null,
      "outputs": []
    },
    {
      "cell_type": "markdown",
      "source": [
        "Solução: "
      ],
      "metadata": {
        "id": "RHKzPGHTUHaY"
      }
    },
    {
      "cell_type": "code",
      "source": [
        "# MD_01 (tautologia): A & ~B & F & ~G\n",
        "MD_01 = ~(A & ~B & F & ~G)\n",
        "MD_01.head(60)"
      ],
      "metadata": {
        "id": "7Cj_LXHfUJUH"
      },
      "execution_count": null,
      "outputs": []
    },
    {
      "cell_type": "code",
      "source": [
        "# MD_02 (tautologia): ~A & ~H & ~L & ~N\n",
        "MD_02 = ~(A & H & L & N)\n",
        "MD_02.head(60)"
      ],
      "metadata": {
        "id": "BgXsrsSAlfaA"
      },
      "execution_count": null,
      "outputs": []
    },
    {
      "cell_type": "code",
      "source": [
        "# MD_03 (tautologia): ~A & ~H & ~L & N\n",
        "MD_03 = ~(~A & ~H & ~L & N)\n",
        "MD_03.head(60)"
      ],
      "metadata": {
        "id": "rT4EoozIlfio"
      },
      "execution_count": null,
      "outputs": []
    },
    {
      "cell_type": "code",
      "source": [
        "# MD_04 (contigência): ~A & H & I & J\n",
        "MD_04 = ~A & H & I & J\n",
        "MD_04.head(60)"
      ],
      "metadata": {
        "id": "PeLNV9XQlfn3"
      },
      "execution_count": null,
      "outputs": []
    },
    {
      "cell_type": "code",
      "source": [
        "# MD_05 (tautologia): A & ~B & F & G\n",
        "MD_05 = ~(A & ~B & F & G)\n",
        "MD_05.head(60)"
      ],
      "metadata": {
        "id": "geAkJkdUlfrP"
      },
      "execution_count": null,
      "outputs": []
    },
    {
      "cell_type": "code",
      "source": [
        "# MD_06 (tautologia): A & ~B & ~F\n",
        "MD_06 = ~(~A & B & F)\n",
        "MD_06.head(60)"
      ],
      "metadata": {
        "id": "nH4_fIIblftW"
      },
      "execution_count": null,
      "outputs": []
    },
    {
      "cell_type": "code",
      "source": [
        "# MD_07 (tautologia): ~A & H & ~I & K\n",
        "MD_07 = ~(~A & H & ~I & K)\n",
        "MD_07.head(60)"
      ],
      "metadata": {
        "id": "DikG--JXlfwO"
      },
      "execution_count": null,
      "outputs": []
    },
    {
      "cell_type": "code",
      "source": [
        "# MD_08 (contradição): A & B & C & ~D\n",
        "MD_08 = A & B & C & ~D\n",
        "MD_08.head(60)"
      ],
      "metadata": {
        "id": "StwpVPTjlf6e"
      },
      "execution_count": null,
      "outputs": []
    },
    {
      "cell_type": "code",
      "source": [
        "# MD_09 (tautologia): ~A & H & I & ~J\n",
        "MD_09 = ~(A & H & I & ~J)\n",
        "MD_09.head(60)"
      ],
      "metadata": {
        "id": "ZOhE9QfClf9Q"
      },
      "execution_count": null,
      "outputs": []
    },
    {
      "cell_type": "code",
      "source": [
        "# MD_10 (tautologia): ~A & ~H & L & M\n",
        "MD_10 = ~(~A & ~H & L & M)\n",
        "MD_10.head(60)"
      ],
      "metadata": {
        "id": "R78DgLYXlf_1"
      },
      "execution_count": null,
      "outputs": []
    },
    {
      "cell_type": "markdown",
      "source": [
        "## Exercício 4"
      ],
      "metadata": {
        "id": "OvL9vJH06xsX"
      }
    },
    {
      "cell_type": "markdown",
      "source": [
        "**20% da nota total da atividade.**\n",
        "\n",
        "Extraia o numero de linhas da fonte de dados pelos argumento válidos abaixo:"
      ],
      "metadata": {
        "id": "23pZNd937UxW"
      }
    },
    {
      "cell_type": "code",
      "source": [
        "# Enunciado do exercício\n",
        "import random\n",
        "random.seed(matricula)\n",
        "indices = list(range(0,len(argumentos['hipoteses'])))\n",
        "random.shuffle(indices)\n",
        "random.shuffle(indices)\n",
        "print('Argumentos Válidos:')\n",
        "for i in range(0,min([len(argumentos['hipoteses']),10])):\n",
        "  print('   ',\n",
        "        f'AV_{i+1:0>2}:   (',argumentos['hipoteses'][indices[i]],') ∴',\n",
        "        argumentos['conclusoes'][indices[i]])"
      ],
      "metadata": {
        "id": "aLoUJ0DG7pwS",
        "colab": {
          "base_uri": "https://localhost:8080/"
        },
        "outputId": "a3c3a857-9c88-4539-91f5-8c476558032e"
      },
      "execution_count": 188,
      "outputs": [
        {
          "output_type": "stream",
          "name": "stdout",
          "text": [
            "Argumentos Válidos:\n",
            "    AV_01:   ( A & B & ~C & ~E ) ∴ Classe ⇔ 2\n",
            "    AV_02:   ( ~A & H & I & ~J ) ∴ Classe ⇔ 2\n",
            "    AV_03:   ( A & B & C & D ) ∴ Classe ⇔ 0\n",
            "    AV_04:   ( ~A & ~H & ~L & ~N ) ∴ Classe ⇔ 2\n",
            "    AV_05:   ( A & ~B & F & G ) ∴ Classe ⇔ 1\n",
            "    AV_06:   ( ~A & H & I & J ) ∴ Classe ⇔ 0\n",
            "    AV_07:   ( A & B & C & ~D ) ∴ Classe ⇔ 2\n",
            "    AV_08:   ( ~A & ~H & ~L & N ) ∴ Classe ⇔ 0\n",
            "    AV_09:   ( ~A & ~H & L & ~M ) ∴ Classe ⇔ 0\n",
            "    AV_10:   ( A & ~B & F & ~G ) ∴ Classe ⇔ 2\n"
          ]
        }
      ]
    },
    {
      "cell_type": "markdown",
      "source": [
        "Solução:"
      ],
      "metadata": {
        "id": "TwpfPQHa77KR"
      }
    },
    {
      "cell_type": "code",
      "source": [
        "# não esquecer de usar a implicação em '∴'\n",
        "AV_01 = fonte[ ( A & B & ~C & ~E ) | (fonte['Classe'] == 2)]\n",
        "len(AV_01)"
      ],
      "metadata": {
        "id": "IsJ04Bw3781L",
        "colab": {
          "base_uri": "https://localhost:8080/"
        },
        "outputId": "901f7e45-0ef5-4d74-f38b-b29118eac96b"
      },
      "execution_count": 187,
      "outputs": [
        {
          "output_type": "execute_result",
          "data": {
            "text/plain": [
              "333"
            ]
          },
          "metadata": {},
          "execution_count": 187
        }
      ]
    },
    {
      "cell_type": "code",
      "source": [
        "# não esquecer de usar a implicação em '∴'\n",
        "AV_02 = fonte[ ( ~A & H & I & ~J ) | (fonte['Classe'] == 2)]\n",
        "len(AV_02)"
      ],
      "metadata": {
        "id": "QixIHg-d_hk9",
        "colab": {
          "base_uri": "https://localhost:8080/"
        },
        "outputId": "d99accb4-71fc-42be-9086-4ffb6bb6b398"
      },
      "execution_count": 189,
      "outputs": [
        {
          "output_type": "execute_result",
          "data": {
            "text/plain": [
              "344"
            ]
          },
          "metadata": {},
          "execution_count": 189
        }
      ]
    },
    {
      "cell_type": "code",
      "source": [
        "# ..."
      ],
      "metadata": {
        "id": "zrJXg_ZV_hdR"
      },
      "execution_count": null,
      "outputs": []
    },
    {
      "cell_type": "markdown",
      "source": [
        "## Exercício 5"
      ],
      "metadata": {
        "id": "7jFr99fy8uJ_"
      }
    },
    {
      "cell_type": "markdown",
      "source": [
        "**20% da nota total da atividade.**\n",
        "\n",
        "Monte os predicados das equações lógicas abaixo:"
      ],
      "metadata": {
        "id": "II1kKY328wOB"
      }
    },
    {
      "cell_type": "code",
      "source": [
        "# Enunciado do exercício\n",
        "import random\n",
        "random.seed(matricula)\n",
        "indices = list(range(0,len(argumentos['hipoteses'])))\n",
        "random.shuffle(indices)\n",
        "random.shuffle(indices)\n",
        "random.shuffle(indices)\n",
        "print('Equações dos Predicados:')\n",
        "for i in range(0,min([len(argumentos['hipoteses']),10])):\n",
        "  print('   ',f'P{i+1:0>2}(x):   ',argumentos['hipoteses'][indices[i]],'&',\n",
        "        argumentos['conclusoes'][indices[i]].replace('0','x').replace('1','x').replace('2','x'))"
      ],
      "metadata": {
        "id": "STIdlRrM82JT"
      },
      "execution_count": null,
      "outputs": []
    },
    {
      "cell_type": "markdown",
      "source": [
        "Solução:"
      ],
      "metadata": {
        "id": "L9XPnUFF83R0"
      }
    },
    {
      "cell_type": "code",
      "source": [
        "# Predicado 01\n",
        "def P01(x):\n",
        "  return A & B & C & D & fonte['Classe'] == x\n",
        "P01(0).head(60)"
      ],
      "metadata": {
        "id": "25UXyYWg85Ze"
      },
      "execution_count": null,
      "outputs": []
    },
    {
      "cell_type": "code",
      "source": [
        "# Predicado 02\n",
        "def P02(x):\n",
        "  return ~A & ~H & L & M & fonte['Classe'] == x\n",
        "P02(0).head(60)"
      ],
      "metadata": {
        "id": "68iO1pW7ArTc"
      },
      "execution_count": null,
      "outputs": []
    },
    {
      "cell_type": "code",
      "source": [
        "# Predicado 03\n",
        "def P03(x):\n",
        "  return A & ~B & F & ~G & fonte['Classe'] == x\n",
        "P03(0).head(60)"
      ],
      "metadata": {
        "id": "0TslF18xAv4B"
      },
      "execution_count": null,
      "outputs": []
    },
    {
      "cell_type": "code",
      "source": [
        "# Predicado 04\n",
        "def P04(x):\n",
        "  return A & ~B & ~F & fonte['Classe'] == x\n",
        "P04(0).head(60)"
      ],
      "metadata": {
        "id": "AgP5e9bytEZf"
      },
      "execution_count": null,
      "outputs": []
    },
    {
      "cell_type": "code",
      "source": [
        "# Predicado 05\n",
        "def P05(x):\n",
        "  return ~A & H & I & J & fonte['Classe'] == x\n",
        "P05(0).head(60)"
      ],
      "metadata": {
        "id": "vGC3GJz7tEfG"
      },
      "execution_count": null,
      "outputs": []
    },
    {
      "cell_type": "code",
      "source": [
        "# Predicado 06\n",
        "def P06(x):\n",
        "  return ~A & ~H & ~L & N & fonte['Classe'] == x\n",
        "P06(0).head(60)"
      ],
      "metadata": {
        "id": "kfl6KcNytEk_"
      },
      "execution_count": null,
      "outputs": []
    },
    {
      "cell_type": "code",
      "source": [
        "# Predicado 07\n",
        "def P07(x):\n",
        "  return ~A & H & ~I & ~K & fonte['Classe'] == x\n",
        "P07(0).head(60)"
      ],
      "metadata": {
        "id": "EjnOJ36JtEq-"
      },
      "execution_count": null,
      "outputs": []
    },
    {
      "cell_type": "code",
      "source": [
        "# Predicado 08\n",
        "def P08(x):\n",
        "  return ~A & ~H & L & ~M & fonte['Classe'] == x\n",
        "P08(0).head(60)"
      ],
      "metadata": {
        "id": "H7AkzNnPtExU"
      },
      "execution_count": null,
      "outputs": []
    },
    {
      "cell_type": "code",
      "source": [
        "# Predicado 09\n",
        "def P09(x):\n",
        "  return ~A & ~H & ~L & ~N & fonte['Classe'] == x\n",
        "P09(0).head(60)"
      ],
      "metadata": {
        "id": "JXb6LlSYtE3I"
      },
      "execution_count": null,
      "outputs": []
    },
    {
      "cell_type": "code",
      "source": [
        "# Predicado 10\n",
        "def P10(x):\n",
        "  return A & B & C & ~D & fonte['Classe'] == x\n",
        "P10(0).head(60)"
      ],
      "metadata": {
        "id": "vTU4rzVZtE9l"
      },
      "execution_count": null,
      "outputs": []
    },
    {
      "cell_type": "markdown",
      "source": [
        "## Exercício 6"
      ],
      "metadata": {
        "id": "eHXmnusYBJdd"
      }
    },
    {
      "cell_type": "markdown",
      "source": [
        "**20% da nota total da atividade.**\n",
        "\n",
        "Verifique se o resultado lógico dos quantificadores abaixo:"
      ],
      "metadata": {
        "id": "Su8JGvqfBLXo"
      }
    },
    {
      "cell_type": "code",
      "source": [
        "import random\n",
        "random.seed(matricula)\n",
        "quanti = ['∀','∃']\n",
        "classes = [0,1,2]\n",
        "print('Quantificadores:')\n",
        "for i in range(0,min([len(argumentos['hipoteses']),10])):\n",
        "  random.shuffle(quanti)\n",
        "  random.shuffle(classes)\n",
        "  print('   ',f'Q_{i+1:0>2}: {quanti[1]}x P{i+1:0>2}({classes[0]}) no domínio de',argumentos['linhas'][i],'linhas.')"
      ],
      "metadata": {
        "id": "SUsPQjT1BVar",
        "colab": {
          "base_uri": "https://localhost:8080/"
        },
        "outputId": "77579cb5-b4cd-45b7-a995-fb1754bd13a0"
      },
      "execution_count": 212,
      "outputs": [
        {
          "output_type": "stream",
          "name": "stdout",
          "text": [
            "Quantificadores:\n",
            "    Q_01: ∃x P01(1) no domínio de 316 linhas.\n",
            "    Q_02: ∃x P02(0) no domínio de 308 linhas.\n",
            "    Q_03: ∀x P03(0) no domínio de 306 linhas.\n",
            "    Q_04: ∀x P04(0) no domínio de 20 linhas.\n",
            "    Q_05: ∀x P05(1) no domínio de 13 linhas.\n",
            "    Q_06: ∀x P06(2) no domínio de 10 linhas.\n",
            "    Q_07: ∀x P07(0) no domínio de 8 linhas.\n",
            "    Q_08: ∀x P08(0) no domínio de 5 linhas.\n",
            "    Q_09: ∃x P09(1) no domínio de 5 linhas.\n",
            "    Q_10: ∃x P10(0) no domínio de 3 linhas.\n"
          ]
        }
      ]
    },
    {
      "cell_type": "code",
      "source": [
        "argumentos['linhas']"
      ],
      "metadata": {
        "colab": {
          "base_uri": "https://localhost:8080/"
        },
        "id": "AtcZHZ4o59bv",
        "outputId": "0aa93fb7-b2e7-4e2f-931c-4d391d46adde"
      },
      "execution_count": 213,
      "outputs": [
        {
          "output_type": "execute_result",
          "data": {
            "text/plain": [
              "[316, 308, 306, 20, 13, 10, 8, 5, 5, 3, 2, 1, 1, 1, 1]"
            ]
          },
          "metadata": {},
          "execution_count": 213
        }
      ]
    },
    {
      "cell_type": "markdown",
      "source": [
        "Solução"
      ],
      "metadata": {
        "id": "gFeRRkVzDuC-"
      }
    },
    {
      "cell_type": "code",
      "source": [
        "fonte.shape"
      ],
      "metadata": {
        "id": "n5mFO_hF6Nyf",
        "outputId": "2d0975ae-de50-4ff6-8578-4d282a1216e1",
        "colab": {
          "base_uri": "https://localhost:8080/"
        }
      },
      "execution_count": 215,
      "outputs": [
        {
          "output_type": "execute_result",
          "data": {
            "text/plain": [
              "(1000, 6)"
            ]
          },
          "metadata": {},
          "execution_count": 215
        }
      ]
    },
    {
      "cell_type": "code",
      "source": [
        "q_01 = (len(fonte(P01(1))) > 316)\n",
        "q_01"
      ],
      "metadata": {
        "id": "LSCVK4nsDvZs",
        "colab": {
          "base_uri": "https://localhost:8080/",
          "height": 183
        },
        "outputId": "4e7e774a-65c9-49cf-f792-026c792e0ff4"
      },
      "execution_count": 217,
      "outputs": [
        {
          "output_type": "error",
          "ename": "TypeError",
          "evalue": "ignored",
          "traceback": [
            "\u001b[0;31m---------------------------------------------------------------------------\u001b[0m",
            "\u001b[0;31mTypeError\u001b[0m                                 Traceback (most recent call last)",
            "\u001b[0;32m<ipython-input-217-84044e98e398>\u001b[0m in \u001b[0;36m<module>\u001b[0;34m()\u001b[0m\n\u001b[0;32m----> 1\u001b[0;31m \u001b[0mq_01\u001b[0m \u001b[0;34m=\u001b[0m \u001b[0;34m(\u001b[0m\u001b[0mlen\u001b[0m\u001b[0;34m(\u001b[0m\u001b[0mfonte\u001b[0m\u001b[0;34m(\u001b[0m\u001b[0mP01\u001b[0m\u001b[0;34m(\u001b[0m\u001b[0;36m1\u001b[0m\u001b[0;34m)\u001b[0m\u001b[0;34m)\u001b[0m\u001b[0;34m)\u001b[0m \u001b[0;34m>\u001b[0m \u001b[0;36m316\u001b[0m\u001b[0;34m)\u001b[0m\u001b[0;34m\u001b[0m\u001b[0;34m\u001b[0m\u001b[0m\n\u001b[0m\u001b[1;32m      2\u001b[0m \u001b[0mq_01\u001b[0m\u001b[0;34m\u001b[0m\u001b[0;34m\u001b[0m\u001b[0m\n",
            "\u001b[0;31mTypeError\u001b[0m: 'DataFrame' object is not callable"
          ]
        }
      ]
    },
    {
      "cell_type": "code",
      "source": [
        "q_02 = (len(fonte(P02(0))) == 221)\n",
        "q_02"
      ],
      "metadata": {
        "id": "0ajUdhZAEBch"
      },
      "execution_count": null,
      "outputs": []
    },
    {
      "cell_type": "code",
      "source": [
        "..."
      ],
      "metadata": {
        "id": "hUpT_GDPEJsR"
      },
      "execution_count": null,
      "outputs": []
    },
    {
      "cell_type": "markdown",
      "source": [
        "# Postando as soluções"
      ],
      "metadata": {
        "id": "ilzuK_HUWqRJ"
      }
    },
    {
      "cell_type": "markdown",
      "source": [
        "No menu Arquivo >> Fazer Download >> Fazer Download do .ipynb\n",
        "\n",
        "Enviar o arquivo na própria atividade do Google Sala da Aula."
      ],
      "metadata": {
        "id": "Iui2pLXFWtPS"
      }
    }
  ]
}